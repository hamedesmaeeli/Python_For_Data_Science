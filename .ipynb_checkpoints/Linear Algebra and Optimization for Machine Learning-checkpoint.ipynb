{
 "cells": [
  {
   "cell_type": "code",
   "execution_count": 2,
   "id": "139f3873",
   "metadata": {},
   "outputs": [
    {
     "data": {
      "text/plain": [
       "0.0"
      ]
     },
     "execution_count": 2,
     "metadata": {},
     "output_type": "execute_result"
    }
   ],
   "source": [
    "#he commutivity principle of multiplication, which states that a × b = b × a:\n",
    "import numpy as np\n",
    "a = np.random.randn()\n",
    "b = np.random.randn()\n",
    "a*b - b*a"
   ]
  },
  {
   "cell_type": "code",
   "execution_count": 7,
   "id": "63b79a54",
   "metadata": {},
   "outputs": [
    {
     "name": "stdout",
     "output_type": "stream",
     "text": [
      "[1, 2, 3] \n",
      "\n",
      " [1 2 3] \n",
      "\n",
      " [[1 2 3]] \n",
      "\n",
      " [[1]\n",
      " [2]\n",
      " [3]]\n"
     ]
    }
   ],
   "source": [
    "#The code below shows four ways of creating a vector.\n",
    "import numpy as np\n",
    "asList = [1,2,3]\n",
    "asArray = np.array([1,2,3]) # 1D array\n",
    "rowVec = np.array([ [1,2,3] ]) # row\n",
    "colVec = np.array([ [1],[2],[3] ]) # column\n",
    "\n",
    "print(asList,'\\n\\n',asArray,'\\n\\n',rowVec,'\\n\\n',colVec)"
   ]
  },
  {
   "cell_type": "code",
   "execution_count": 10,
   "id": "0f92b5da",
   "metadata": {},
   "outputs": [
    {
     "name": "stdout",
     "output_type": "stream",
     "text": [
      "\n",
      " V :  [4 5 6]\n",
      "\n",
      " W :  [10 20 30]\n",
      "\n",
      " vPlusW :  [14 25 36]\n"
     ]
    }
   ],
   "source": [
    "#Operations on vectors\n",
    "#Adding two vectors\n",
    "import numpy as np\n",
    "v = np.array([4,5,6])\n",
    "w = np.array([10,20,30])\n",
    "u = np.array([0,3,6,9])\n",
    "vPlusW = v+w\n",
    "print('\\n V : ',v)\n",
    "print('\\n W : ',w)\n",
    "print('\\n vPlusW : ',vPlusW)"
   ]
  },
  {
   "cell_type": "code",
   "execution_count": 15,
   "id": "6a37558a",
   "metadata": {},
   "outputs": [
    {
     "name": "stdout",
     "output_type": "stream",
     "text": [
      "[[4 5 6]]\n",
      "[[10]\n",
      " [20]\n",
      " [30]]\n",
      "v=w \n",
      " [[14 15 16]\n",
      " [24 25 26]\n",
      " [34 35 36]]\n"
     ]
    }
   ],
   "source": [
    "#Two vectors can be added together only if they have the same dimensionality \n",
    "# and the same orientation  Geometry of vector addition and subtraction\n",
    "#Python is implementing an operation called broadcasting.\n",
    "import numpy as np\n",
    "v = np.array([[4,5,6]]) # row vector\n",
    "w = np.array([[10,20,30]]).T # column vector\n",
    "print(v)\n",
    "print(w)\n",
    "print('v=w \\n',v+w)"
   ]
  },
  {
   "cell_type": "code",
   "execution_count": 17,
   "id": "58d101eb",
   "metadata": {},
   "outputs": [
    {
     "name": "stdout",
     "output_type": "stream",
     "text": [
      "[3, 4, 5, 3, 4, 5]\n",
      "[ 6  8 10]\n"
     ]
    }
   ],
   "source": [
    "#Vector-scalar multiplication\n",
    "import numpy as np\n",
    "s = 2\n",
    "a = [3,4,5] # as list\n",
    "b = np.array(a) # as np array\n",
    "print(a*s) #element-wise multiplication\n",
    "print(b*s) #vector-scalar multiplication"
   ]
  },
  {
   "cell_type": "code",
   "execution_count": 19,
   "id": "f38fc832",
   "metadata": {},
   "outputs": [
    {
     "name": "stdout",
     "output_type": "stream",
     "text": [
      "[5 8]\n"
     ]
    }
   ],
   "source": [
    "#Scalar-vector addition\n",
    "s = 2\n",
    "v = np.array([3,6])\n",
    "print(s+v)\n"
   ]
  },
  {
   "cell_type": "code",
   "execution_count": 20,
   "id": "647c07cd",
   "metadata": {},
   "outputs": [
    {
     "name": "stdout",
     "output_type": "stream",
     "text": [
      "[[1]\n",
      " [2]\n",
      " [3]]\n",
      "[[10 20]]\n",
      "\n",
      " [[11 21]\n",
      " [12 22]\n",
      " [13 23]]\n"
     ]
    }
   ],
   "source": [
    "#Vector broadcasting in Python\n",
    "#Broadcasting is an operation that exists only in modern computer-based linear algebra\n",
    "#Broadcasting essentially means to repeat an operation multiple times between one vector and each element of another vector\n",
    "v = np.array([[1,2,3]]).T # col vector\n",
    "w = np.array([[10,20]]) # row vector\n",
    "v + w # addition with broadcasting\n",
    "print(v)\n",
    "print(w)\n",
    "print('\\n',v+w)"
   ]
  },
  {
   "cell_type": "code",
   "execution_count": 6,
   "id": "774a1cfe",
   "metadata": {},
   "outputs": [
    {
     "ename": "AttributeError",
     "evalue": "type object 'numpy.ndarray' has no attribute 'len'",
     "output_type": "error",
     "traceback": [
      "\u001b[1;31m---------------------------------------------------------------------------\u001b[0m",
      "\u001b[1;31mAttributeError\u001b[0m                            Traceback (most recent call last)",
      "\u001b[1;32m~\\AppData\\Local\\Temp/ipykernel_10832/4252404958.py\u001b[0m in \u001b[0;36m<module>\u001b[1;34m\u001b[0m\n\u001b[0;32m      7\u001b[0m \u001b[1;32mimport\u001b[0m \u001b[0mnumpy\u001b[0m \u001b[1;32mas\u001b[0m \u001b[0mnp\u001b[0m\u001b[1;33m\u001b[0m\u001b[1;33m\u001b[0m\u001b[0m\n\u001b[0;32m      8\u001b[0m \u001b[0mv\u001b[0m \u001b[1;33m=\u001b[0m \u001b[0mnp\u001b[0m\u001b[1;33m.\u001b[0m\u001b[0marray\u001b[0m\u001b[1;33m(\u001b[0m\u001b[1;33m[\u001b[0m\u001b[1;36m1\u001b[0m\u001b[1;33m,\u001b[0m\u001b[1;36m2\u001b[0m\u001b[1;33m,\u001b[0m\u001b[1;36m3\u001b[0m\u001b[1;33m,\u001b[0m\u001b[1;36m7\u001b[0m\u001b[1;33m,\u001b[0m\u001b[1;36m8\u001b[0m\u001b[1;33m,\u001b[0m\u001b[1;36m9\u001b[0m\u001b[1;33m]\u001b[0m\u001b[1;33m)\u001b[0m\u001b[1;33m\u001b[0m\u001b[1;33m\u001b[0m\u001b[0m\n\u001b[1;32m----> 9\u001b[1;33m \u001b[0mv_dim\u001b[0m \u001b[1;33m=\u001b[0m \u001b[0mnp\u001b[0m\u001b[1;33m.\u001b[0m\u001b[0mndarray\u001b[0m\u001b[1;33m.\u001b[0m\u001b[0mlen\u001b[0m\u001b[1;33m(\u001b[0m\u001b[0mv\u001b[0m\u001b[1;33m)\u001b[0m \u001b[1;31m# math dimensionality\u001b[0m\u001b[1;33m\u001b[0m\u001b[1;33m\u001b[0m\u001b[0m\n\u001b[0m\u001b[0;32m     10\u001b[0m \u001b[0mv_mag\u001b[0m \u001b[1;33m=\u001b[0m \u001b[0mnp\u001b[0m\u001b[1;33m.\u001b[0m\u001b[0mnorm\u001b[0m\u001b[1;33m(\u001b[0m\u001b[0mv\u001b[0m\u001b[1;33m)\u001b[0m \u001b[1;31m# math magnitude, length, or norm\u001b[0m\u001b[1;33m\u001b[0m\u001b[1;33m\u001b[0m\u001b[0m\n\u001b[0;32m     11\u001b[0m \u001b[0mprint\u001b[0m\u001b[1;33m(\u001b[0m\u001b[1;34m'Vector:\\n'\u001b[0m\u001b[1;33m,\u001b[0m\u001b[0mv\u001b[0m\u001b[1;33m)\u001b[0m\u001b[1;33m\u001b[0m\u001b[1;33m\u001b[0m\u001b[0m\n",
      "\u001b[1;31mAttributeError\u001b[0m: type object 'numpy.ndarray' has no attribute 'len'"
     ]
    }
   ],
   "source": [
    "#Vector magnitude and unit vectors\n",
    "#The magnitude of a vector — also called the geometric length or the norm \n",
    "#— is the distance from tail to head of a vector, and is computed using the\n",
    "#standard Euclidean distance formula: the square root of the sum of squared\n",
    "#vector elements. Vector magnitude is indicated using double-vertical bars\n",
    "#around the vector: ∥ v ∥.\n",
    "import numpy as np\n",
    "v = np.array([1,2,3,7,8,9])\n",
    "v_dim = np.ndarray.len(v) # math dimensionality\n",
    "v_mag = np.norm(v) # math magnitude, length, or norm\n",
    "print('Vector:\\n',v)\n",
    "print('dim',v_dim)\n",
    "print('dim',v_mag)\n",
    "\n",
    "#There are some applications where we want a vector that has a geometric length of one, which is called a unit vector.\n",
    "#unit vector is defined as ∥ v ∥= 1.\n",
    "# We can create a unit vector in the same direction as a non-unit vector."
   ]
  },
  {
   "cell_type": "code",
   "execution_count": 5,
   "id": "211681f7",
   "metadata": {},
   "outputs": [
    {
     "data": {
      "text/plain": [
       "70"
      ]
     },
     "execution_count": 5,
     "metadata": {},
     "output_type": "execute_result"
    }
   ],
   "source": [
    "# The vector dot product\n",
    "# The dot product can be interpreted as a measure of similarity or mapping between two vectors\n",
    "# MEMORIZE THIS: ORTHOGONAL VECTORS HAVE A ZERO DOT PRODUCT.\n",
    "import numpy as np\n",
    "v = np.array([1,2,3,4])\n",
    "w = np.array([5,6,7,8])\n",
    "np.dot(v,w)"
   ]
  },
  {
   "cell_type": "code",
   "execution_count": 7,
   "id": "7799b759",
   "metadata": {},
   "outputs": [
    {
     "name": "stdout",
     "output_type": "stream",
     "text": [
      "110\n",
      "110\n"
     ]
    }
   ],
   "source": [
    "#The dot product is distributive \n",
    "# a(b + c) = ab + ac.   aT (b + c) = aTb + aTc\n",
    "# α =cos (θv,w) ∥ v ∥∥ w ∥\n",
    "import numpy as np \n",
    "a = np.array([ 0,1,2 ])\n",
    "b = np.array([ 3,5,8 ])\n",
    "c = np.array([ 13,21,34 ])\n",
    "# the dot product is distributive\n",
    "res1 = np.dot( a, b+c )\n",
    "res2 = np.dot( a,b ) + np.dot( a,c )\n",
    "print(res1)\n",
    "print(res2)\n"
   ]
  },
  {
   "cell_type": "code",
   "execution_count": 9,
   "id": "b0c49fbc",
   "metadata": {},
   "outputs": [
    {
     "name": "stdout",
     "output_type": "stream",
     "text": [
      "[ 5.  0.  4. -2.]\n"
     ]
    }
   ],
   "source": [
    "#Hadamard multiplication \n",
    "import numpy as np\n",
    "a = np.array([5,4,8,2])\n",
    "b = np.array([1,0,.5,-1])\n",
    "print(a*b)"
   ]
  },
  {
   "cell_type": "code",
   "execution_count": 14,
   "id": "eabab4b3",
   "metadata": {},
   "outputs": [
    {
     "name": "stdout",
     "output_type": "stream",
     "text": [
      "[[1]\n",
      " [2]\n",
      " [3]]\n",
      "[1 2]\n",
      "[[1 2]\n",
      " [2 4]\n",
      " [3 6]]\n"
     ]
    }
   ],
   "source": [
    "#Outer product\n",
    "#The outer product is a way to create a matrix from a column vector and a row vector\n",
    "\n",
    "#Numpy can compute the outer product via the function np.outer() or\n",
    "#the function np.dot() if the two input vectors are in, respectively,\n",
    "#column and row orientation.\n",
    "\n",
    "import numpy as np\n",
    "\n",
    "a= np.array([[1,2,3]]).T\n",
    "b= np.array([1,2])\n",
    "print(a)\n",
    "print(b)\n",
    "print (a*b)"
   ]
  },
  {
   "cell_type": "code",
   "execution_count": 15,
   "id": "7a16cda1",
   "metadata": {},
   "outputs": [],
   "source": [
    "#Orthogonal vector decomposition\n",
    "#To “decompose” a vector or matrix means to break up that matrix into\n",
    "#multiple simpler pieces. Decompositions are used to reveal information that\n",
    "#is “hidden” in a matrix, to make the matrix easier to work with, or for data\n",
    "#compression.\n",
    "\n",
    "#we will begin exploring a simple yet important\n",
    "#decomposition, which is to break up a vector into two separate vectors, one\n",
    "#of which is orthogonal to a reference vector while the other is parallel to\n",
    "#that reference vector.\n",
    "\n",
    "\n",
    "#Orthogonal vector decomposition directly leads to the\n",
    "#Gram-Schmidt procedure and QR decomposition, which is used frequently\n",
    "#when solving inverse problems in statistics\n"
   ]
  },
  {
   "cell_type": "code",
   "execution_count": 16,
   "id": "03435a80",
   "metadata": {},
   "outputs": [],
   "source": [
    "#Vector sets\n",
    "#A collection of vectors is called a set"
   ]
  },
  {
   "cell_type": "code",
   "execution_count": 18,
   "id": "bf6f29b3",
   "metadata": {},
   "outputs": [
    {
     "data": {
      "text/plain": [
       "array([ -7,  -4, -13])"
      ]
     },
     "execution_count": 18,
     "metadata": {},
     "output_type": "execute_result"
    }
   ],
   "source": [
    "#Linear weighted combination\n",
    "#“linear weighted combination” is a way of mixing information from multiple variables, with some variables contributing more than others.\n",
    "# w = λ1v1 + λ2v2+. . .+λnvn\n",
    "\n",
    "import numpy as np\n",
    "l1 = 1\n",
    "l2 = 2\n",
    "l3 = -3\n",
    "v1 = np.array([4,5,1])\n",
    "v2 = np.array([-4,0,-4])\n",
    "v3 = np.array([1,3,2])\n",
    "l1*v1 + l2*v2 + l3*v3"
   ]
  },
  {
   "cell_type": "code",
   "execution_count": 19,
   "id": "3a79cfd3",
   "metadata": {},
   "outputs": [],
   "source": [
    "#Linear independence\n",
    "#A set of vectors is linearly dependent if at least one vector in the set can be\n",
    "#  expressed as a linear weighted combination of other vectors in that set\n",
    "# Independence is a property of a set of vectors. That is, a set of vectors\n",
    "# can be linearly independent or linearly dependent; independence is not a\n",
    "# property of an individual vector within a set.\n",
    "\n",
    "#Equation 3-3. Linear dependence.  0 = λ1v1 + λ2v2+. . .+λnvn, λ ∈ R\n",
    "\n",
    "#"
   ]
  },
  {
   "cell_type": "code",
   "execution_count": 20,
   "id": "373fea20",
   "metadata": {},
   "outputs": [],
   "source": [
    "#Subspace and span\n",
    "#The formal definition of a vector subspace is a subset that is closed under\n",
    "# addition and scalar multiplication, and includes the origin of the space.\n",
    "\n"
   ]
  },
  {
   "cell_type": "code",
   "execution_count": null,
   "id": "74a57b65",
   "metadata": {},
   "outputs": [],
   "source": [
    "#Basis\n",
    "# A basis is a set of rulers that you use to describe the information in the matrix\n",
    "# The most common basis set is the Cartesian axis: the familiar XY plane that you’ve used since elementary school.\n",
    "#Notice that the Cartesian basis sets comprise vectors that are mutually orthgonal and unit length.\n",
    "\n",
    "#A major goal in data science is to discover the best basis set to describe datasets or to solve problems."
   ]
  }
 ],
 "metadata": {
  "kernelspec": {
   "display_name": "Python 3 (ipykernel)",
   "language": "python",
   "name": "python3"
  },
  "language_info": {
   "codemirror_mode": {
    "name": "ipython",
    "version": 3
   },
   "file_extension": ".py",
   "mimetype": "text/x-python",
   "name": "python",
   "nbconvert_exporter": "python",
   "pygments_lexer": "ipython3",
   "version": "3.9.7"
  }
 },
 "nbformat": 4,
 "nbformat_minor": 5
}
