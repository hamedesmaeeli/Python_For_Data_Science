{
 "cells": [
  {
   "cell_type": "code",
   "execution_count": 1,
   "id": "5506f51b",
   "metadata": {},
   "outputs": [],
   "source": [
    "#Steve Nouri Document"
   ]
  },
  {
   "cell_type": "code",
   "execution_count": 2,
   "id": "d0111119",
   "metadata": {},
   "outputs": [],
   "source": [
    "## Why is python numpy better than lists?\n",
    "#Python numpy arrays should be considered instead of a list because they are fast, \n",
    "#consume less memory and convenient with lots of functionality."
   ]
  },
  {
   "cell_type": "code",
   "execution_count": 3,
   "id": "8da5194f",
   "metadata": {},
   "outputs": [],
   "source": [
    "##Describe the map function in Python?\n",
    "#map function executes the function given as the first argument on all theelements of the iterable given as the second argument."
   ]
  },
  {
   "cell_type": "code",
   "execution_count": 8,
   "id": "1a0628ca",
   "metadata": {
    "scrolled": true
   },
   "outputs": [
    {
     "name": "stdout",
     "output_type": "stream",
     "text": [
      "[0.03251295 0.74433045 0.90538025 0.87040376 0.94352063 0.79568779\n",
      " 0.7883777  0.61829207 0.11878659 0.52356244 0.06586536 0.62909984\n",
      " 0.44159027 0.31478665 0.88164009 0.66797621 0.61340133 0.06029348\n",
      " 0.33896196 0.7089724  0.37780529 0.46254051 0.34615283 0.72763078\n",
      " 0.65941602 0.99702117 0.59004016 0.94912156 0.87268026 0.22311348\n",
      " 0.84574173 0.90913907 0.47533288 0.58068466 0.81799317 0.95526077\n",
      " 0.19334318 0.07402425 0.96369975 0.04629705 0.23131669 0.10219014\n",
      " 0.02627307 0.52259474 0.0503016  0.58046687 0.96094654 0.29362784\n",
      " 0.088615   0.52477082 0.79132968 0.48315031 0.60984387 0.42458181\n",
      " 0.35373194 0.46350389 0.92570307 0.20524577 0.79707443 0.9654838\n",
      " 0.98188461 0.13268842 0.13623871 0.42665173 0.06491658 0.58707855\n",
      " 0.39250745 0.31782763 0.43300895 0.09562093 0.24093976 0.24020404\n",
      " 0.48255949 0.15363299 0.11432052 0.86205431 0.71550174 0.88825353\n",
      " 0.43832892 0.25973203 0.06863467 0.84621308 0.25642591 0.41610997\n",
      " 0.07547121 0.97956976 0.63705041 0.55251546 0.62371061 0.6743562\n",
      " 0.59127819 0.41566006 0.0334058  0.76652365 0.89460099 0.64134566\n",
      " 0.58163966 0.09214456 0.39745119 0.26838136]\n"
     ]
    }
   ],
   "source": [
    "##Generate array of ‘100’ random numbers sampled from a standard normal distribution using Numpy\n",
    "#np.random.rand(100) will create 100 random numbers generated from standard normal distribution with mean 0 and standard deviation 1.\n",
    "import numpy as np \n",
    "print(np.random.rand(100)) "
   ]
  },
  {
   "cell_type": "code",
   "execution_count": 10,
   "id": "70fa58c3",
   "metadata": {},
   "outputs": [
    {
     "name": "stdout",
     "output_type": "stream",
     "text": [
      "[4 1 1 1 2 3 0 0 0 2]\n"
     ]
    }
   ],
   "source": [
    "## How to count the occurrence of each value in a numpy array?\n",
    "import numpy \n",
    "arr = numpy.array([0, 5, 5, 0, 2, 4, 3, 0, 0, 5, 4, 1, 9, 9])\n",
    "print(numpy.bincount(arr))\n",
    "#This function sorts the numbers,then counts the number of ocourence of each values. Zero means that we have not occourence for a value\n"
   ]
  },
  {
   "cell_type": "code",
   "execution_count": 13,
   "id": "652fad62",
   "metadata": {},
   "outputs": [
    {
     "name": "stdout",
     "output_type": "stream",
     "text": [
      "\n",
      " [[1 2 3]\n",
      " [4 5 6]\n",
      " [7 8 9]]\n",
      "\n",
      " [1 2 3 4 5 6 7 8 9]\n"
     ]
    }
   ],
   "source": [
    "## What does ravel() function in numpy do?\n",
    "# It combines multiple numpy arrays into a single array\n",
    "import numpy as np\n",
    "a= np.array([(1,2,3),(4,5,6),(7,8,9)])\n",
    "print('\\n',a)\n",
    "print('\\n',a.ravel())"
   ]
  },
  {
   "cell_type": "code",
   "execution_count": 18,
   "id": "1a6af4f9",
   "metadata": {},
   "outputs": [
    {
     "name": "stdout",
     "output_type": "stream",
     "text": [
      "[2 3 5]\n",
      "[ 8  9 10]\n"
     ]
    }
   ],
   "source": [
    "## How to remove from one array those items that exist in another?\n",
    "import numpy as np\n",
    "a = np.array([5, 4, 3, 2, 1])\n",
    "b = np.array([4, 8, 9, 10, 1])\n",
    "# From 'a' remove all of 'b'\n",
    "print(np.setdiff1d(a,b))\n",
    "# From 'b' remove all of 'a'\n",
    "print(np.setdiff1d(b,a))"
   ]
  },
  {
   "cell_type": "code",
   "execution_count": 26,
   "id": "763f33b6",
   "metadata": {},
   "outputs": [
    {
     "name": "stdout",
     "output_type": "stream",
     "text": [
      "[[8 2 6]\n",
      " [2 1 4]\n",
      " [6 7 3]]\n"
     ]
    },
    {
     "data": {
      "text/plain": [
       "array([[2, 1, 4],\n",
       "       [8, 2, 6],\n",
       "       [6, 7, 3]])"
      ]
     },
     "execution_count": 26,
     "metadata": {},
     "output_type": "execute_result"
    }
   ],
   "source": [
    "## How to sort a numpy array by a specific column in a 2D array?\n",
    "#Choose column 2 as an example\n",
    "import numpy as np\n",
    "arr = np.array([[8, 2, 6], [2, 1, 4], [6,7,3]])\n",
    "print(arr)\n",
    "arr[arr[:,1].argsort()]\n"
   ]
  },
  {
   "cell_type": "code",
   "execution_count": 34,
   "id": "f02cbe83",
   "metadata": {},
   "outputs": [
    {
     "name": "stdout",
     "output_type": "stream",
     "text": [
      "arr [ 9 10  1  2  0]\n",
      "reverse_arr [ 0  2  1 10  9]\n"
     ]
    }
   ],
   "source": [
    "## How to reverse a numpy array in the most efficient way?\n",
    "import numpy as np\n",
    "arr = np.array([9, 10, 1, 2, 0])\n",
    "reverse_arr = arr[::-1]\n",
    "print('arr',arr)\n",
    "print('reverse_arr',reverse_arr)"
   ]
  },
  {
   "cell_type": "code",
   "execution_count": 44,
   "id": "1c947755",
   "metadata": {},
   "outputs": [
    {
     "name": "stdout",
     "output_type": "stream",
     "text": [
      "37.400000000000006\n"
     ]
    }
   ],
   "source": [
    "## How to calculate percentiles when using numpy?\n",
    "import numpy as np\n",
    "arr = np.array([11, 22, 33, 44 ,55 ,66, 77])\n",
    "perc = np.percentile(arr, 40) #Returns the 40th percentile\n",
    "print(perc)"
   ]
  },
  {
   "cell_type": "code",
   "execution_count": 45,
   "id": "0007d199",
   "metadata": {},
   "outputs": [],
   "source": [
    "## What Is The Difference Between Numpy And Scipy?\n",
    "\n",
    "#NumPy would contain nothing but the array data type and the most basic operations:\n",
    "#indexing, sorting, reshaping, basic element wise functions, et cetera.\n",
    "#All numerical code would reside in SciPy.\n",
    "#SciPy contains more fully-featured versions of the linear algebra modules, as well as many other numerical algorithms."
   ]
  },
  {
   "cell_type": "code",
   "execution_count": 55,
   "id": "2bb99505",
   "metadata": {},
   "outputs": [
    {
     "name": "stdout",
     "output_type": "stream",
     "text": [
      "[]\n"
     ]
    },
    {
     "data": {
      "text/plain": [
       "0"
      ]
     },
     "execution_count": 55,
     "metadata": {},
     "output_type": "execute_result"
    }
   ],
   "source": [
    "## What Is The Preferred Way To Check For An Empty (zero Element) Array?\n",
    "# For a numpy array, use the size attribute. The size attribute is helpful for determining the length of numpy array:\n",
    "import numpy\n",
    "arr = numpy.zeros((1,0))\n",
    "print(arr)\n",
    "arr.size"
   ]
  },
  {
   "cell_type": "code",
   "execution_count": 56,
   "id": "355461ce",
   "metadata": {},
   "outputs": [],
   "source": [
    "## What Is The Difference Between Matrices And Arrays?\n",
    "\n",
    "# Matrices can only be two-dimensional, whereas arrays can have any number of dimensions"
   ]
  },
  {
   "cell_type": "code",
   "execution_count": 58,
   "id": "9d942012",
   "metadata": {},
   "outputs": [
    {
     "name": "stdout",
     "output_type": "stream",
     "text": [
      "[[9 8 7]\n",
      " [6 5 4]\n",
      " [3 2 1]]\n",
      "\n",
      " [[ True  True  True]\n",
      " [ True  True  True]\n",
      " [False False False]]\n"
     ]
    }
   ],
   "source": [
    "## How can you find the indices of an array where a condition is true?\n",
    "# Given an array a, the condition arr > 3 returns a boolean array and since False is interpreted as 0 in Python and NumPy.\n",
    "\n",
    "import numpy as np\n",
    "arr = np.array([[9,8,7],[6,5,4],[3,2,1]])\n",
    "print(arr)\n",
    "print('\\n',arr>3)"
   ]
  },
  {
   "cell_type": "code",
   "execution_count": 61,
   "id": "5e77048a",
   "metadata": {},
   "outputs": [
    {
     "name": "stdout",
     "output_type": "stream",
     "text": [
      "[[0 1]\n",
      " [2 3]]\n",
      "0 3\n"
     ]
    }
   ],
   "source": [
    "## How to find the maximum and minimum value of a given flattened array\n",
    "\n",
    "import numpy as np\n",
    "a = np.arange(4).reshape((2,2))\n",
    "print(a)\n",
    "max_val = np.amax(a) \n",
    "min_val = np.amin(a)\n",
    "print(min_val,max_val)"
   ]
  },
  {
   "cell_type": "code",
   "execution_count": 67,
   "id": "686ed1e4",
   "metadata": {},
   "outputs": [
    {
     "name": "stdout",
     "output_type": "stream",
     "text": [
      "[[ 0  1  2  3]\n",
      " [ 4  5  6  7]\n",
      " [ 8  9 10 11]\n",
      " [12 13 14 15]]\n",
      "[3 3 3 3]\n"
     ]
    }
   ],
   "source": [
    "## Write a NumPy program to calculate the difference between the maximum and the minimum values of a given array along the second axis.\n",
    "import numpy as np\n",
    "arr = np.arange(16).reshape((4, 4))\n",
    "print(arr)\n",
    "res = np.ptp(arr, 1)\n",
    "print(res)"
   ]
  },
  {
   "cell_type": "code",
   "execution_count": 69,
   "id": "61255271",
   "metadata": {},
   "outputs": [
    {
     "name": "stdout",
     "output_type": "stream",
     "text": [
      "[[ 0  1  2  3]\n",
      " [ 4  5  6  7]\n",
      " [ 8  9 10 11]\n",
      " [12 13 14 15]]\n",
      "7.5\n"
     ]
    }
   ],
   "source": [
    "## Find median of a numpy flattened array\n",
    "import numpy as np\n",
    "arr = np.arange(16).reshape((4, 4))\n",
    "res = np.median(arr)\n",
    "print(arr)\n",
    "print(res)\n"
   ]
  },
  {
   "cell_type": "code",
   "execution_count": 76,
   "id": "4c5fbc2a",
   "metadata": {},
   "outputs": [
    {
     "name": "stdout",
     "output_type": "stream",
     "text": [
      "[ 0  1  2  3  4  5  6  7  8  9 10 11 12 13 14 15]\n",
      "mean = 7.5\n",
      "standard deviation = 4.6097722286464435\n",
      "variance = 21.25\n",
      "median = 7.5\n"
     ]
    }
   ],
   "source": [
    "##Write a NumPy program to compute the mean, standard deviation, and variance of a given array along the second axis\n",
    "#Mean : The mean(average) of a dataset is found by adding all numbers in the data set and then deviding by the values in the set\n",
    "#Median:The  median is the middle value when a data set is orderd  from least to greatest\n",
    "#Variance VS standard deviation is the average squared deviations from the mean, while standard deviation is the square root of this number\n",
    "# A standard deviation is a measure of how dispersed the data in relation to the mean.\n",
    " #low standard deviation means data are clustered around the mean,high standard deviation indicates data are more spread out\n",
    "    \n",
    "import numpy as np\n",
    "x = np.arange(16)\n",
    "mean = np.mean(x)\n",
    "std = np.std(x)\n",
    "var= np.var(x)\n",
    "median=np.median(x)\n",
    "print(x)\n",
    "print('mean =',mean)\n",
    "print('standard deviation =',std)\n",
    "print('variance =',var)\n",
    "print('median =',median)"
   ]
  },
  {
   "cell_type": "code",
   "execution_count": 80,
   "id": "2c75f788",
   "metadata": {},
   "outputs": [
    {
     "name": "stdout",
     "output_type": "stream",
     "text": [
      "\n",
      " [2 1 0]\n",
      "\n",
      " [2 3 3]\n",
      "\n",
      " [[ 1.         -0.5       ]\n",
      " [-0.5         0.33333333]]\n"
     ]
    }
   ],
   "source": [
    "##Calculate covariance matrix between two numpy arrays\n",
    "import numpy as np\n",
    "x = np.array([2, 1, 0])\n",
    "y = np.array([2, 3, 3])\n",
    "cov_arr = np.cov(x, y)\n",
    "print('\\n',x)\n",
    "print('\\n',y)\n",
    "print('\\n',cov_arr)"
   ]
  },
  {
   "cell_type": "code",
   "execution_count": 82,
   "id": "78982df8",
   "metadata": {},
   "outputs": [
    {
     "name": "stdout",
     "output_type": "stream",
     "text": [
      "[[1.         0.92857143]\n",
      " [0.92857143 1.        ]]\n"
     ]
    }
   ],
   "source": [
    "## Compute Compute pearson product-moment correlation coefficients of two given numpy arrays\n",
    "import numpy as np\n",
    "x = np.array([0, 1, 3])\n",
    "y = np.array([2, 4, 5])\n",
    "cross_corr = np.corrcoef(x, y)\n",
    "print(cross_corr)\n"
   ]
  },
  {
   "cell_type": "code",
   "execution_count": 85,
   "id": "e4058aeb",
   "metadata": {},
   "outputs": [
    {
     "data": {
      "text/plain": [
       "(array([2, 3, 1], dtype=int64), array([0, 1, 2, 3]))"
      ]
     },
     "execution_count": 85,
     "metadata": {},
     "output_type": "execute_result"
    }
   ],
   "source": [
    "## Develop a numpy program to compute the histogram of nums against the bins\n",
    "import numpy as np\n",
    "nums = np.array([0.5, 0.7, 1.0, 1.2, 1.3, 2.1])\n",
    "bins = np.array([0, 1, 2, 3])\n",
    "np.histogram(nums, bins)"
   ]
  },
  {
   "cell_type": "code",
   "execution_count": 87,
   "id": "0b45ec4e",
   "metadata": {},
   "outputs": [
    {
     "name": "stdout",
     "output_type": "stream",
     "text": [
      "[0 1 2 3 4 5 6]\n",
      "[  0   1   8  27  64 125 216]\n"
     ]
    }
   ],
   "source": [
    "## Get the powers of an array values element-wise\n",
    "import numpy as np\n",
    "x = np.arange(7)\n",
    "print(x)\n",
    "print(np.power(x, 3))"
   ]
  },
  {
   "cell_type": "code",
   "execution_count": 88,
   "id": "2dbeaea2",
   "metadata": {},
   "outputs": [
    {
     "name": "stdout",
     "output_type": "stream",
     "text": [
      "[0 1 2 3 4 5 6 7 8 9]\n",
      "[0.         0.33333333 0.66666667 1.         1.33333333 1.66666667\n",
      " 2.         2.33333333 2.66666667 3.        ]\n"
     ]
    }
   ],
   "source": [
    "##Write a NumPy program to get true division of the element-wise array inputs\n",
    "import numpy as np\n",
    "x = np.arange(10)\n",
    "print(x)\n",
    "print(np.true_divide(x, 3))\n"
   ]
  },
  {
   "cell_type": "code",
   "execution_count": null,
   "id": "a7c1933a",
   "metadata": {},
   "outputs": [],
   "source": []
  }
 ],
 "metadata": {
  "kernelspec": {
   "display_name": "Python 3 (ipykernel)",
   "language": "python",
   "name": "python3"
  },
  "language_info": {
   "codemirror_mode": {
    "name": "ipython",
    "version": 3
   },
   "file_extension": ".py",
   "mimetype": "text/x-python",
   "name": "python",
   "nbconvert_exporter": "python",
   "pygments_lexer": "ipython3",
   "version": "3.9.7"
  }
 },
 "nbformat": 4,
 "nbformat_minor": 5
}
