{
 "cells": [
  {
   "cell_type": "code",
   "execution_count": 1,
   "id": "ce1b6fe3",
   "metadata": {},
   "outputs": [
    {
     "name": "stdout",
     "output_type": "stream",
     "text": [
      "{'Number': [1, 2, 3, 4, 5], 'Name': ['hamed', 'mohammad hossien', 'mohammad ali', 'maedeh', 'hasan'], 'Hourly salary': [40, 25, 30, 60, 20]}\n",
      "Table 1\n",
      "   Number              Name  Hourly salary\n",
      "0       1             hamed             40\n",
      "1       2  mohammad hossien             25\n",
      "2       3      mohammad ali             30\n",
      "3       4            maedeh             60\n",
      "4       5             hasan             20\n",
      "Table1  two first rows:\n",
      "   Number              Name  Hourly salary\n",
      "0       1             hamed             40\n",
      "1       2  mohammad hossien             25\n",
      "Table1  tow last rows:\n",
      "   Number    Name  Hourly salary\n",
      "3       4  maedeh             60\n",
      "4       5   hasan             20\n"
     ]
    }
   ],
   "source": [
    "import pandas as pd\n",
    "\n",
    "Employee ={'Number':[1,2,3,4,5],'Name':[\"hamed\",\"mohammad hossien\",\"mohammad ali\",\"maedeh\",\"hasan\"],'Hourly salary':[40,25,30,60,20]}\n",
    "print(Employee)\n",
    "table1= pd.DataFrame(Employee)\n",
    "print(\"Table 1\")\n",
    "print(table1)\n",
    "print(\"Table1  two first rows:\")\n",
    "print(table1.head(2))\n",
    "print(\"Table1  tow last rows:\")\n",
    "print(table1.tail(2))"
   ]
  },
  {
   "cell_type": "code",
   "execution_count": 24,
   "id": "b74ecde2",
   "metadata": {},
   "outputs": [
    {
     "name": "stdout",
     "output_type": "stream",
     "text": [
      "Food List1:\n",
      "   number     name  price\n",
      "0       1     corn      8\n",
      "1       2   banana      3\n",
      "2       3    chips      4\n",
      "3       4  popcorn      8\n",
      "4       5    pizza      6\n",
      "Food List2:\n",
      "   number     name  price\n",
      "0       1    apple      2\n",
      "1       2   banana      3\n",
      "2       3    beans      4\n",
      "3       4  popcorn      8\n",
      "4       5    pizza      6\n",
      "merge list1 and list2 on name:\n",
      "   number_x     name  price_x  number_y  price_y\n",
      "0         2   banana        3         2        3\n",
      "1         4  popcorn        8         4        8\n",
      "2         5    pizza        6         5        6\n",
      "join list1 , list: \n",
      "   Number              Name  Hourly salary  number     name  price\n",
      "0       1             hamed             40       1     corn      8\n",
      "1       2  mohammad hossien             25       2   banana      3\n",
      "2       3      mohammad ali             30       3    chips      4\n",
      "3       4            maedeh             60       4  popcorn      8\n",
      "4       5             hasan             20       5    pizza      6\n"
     ]
    }
   ],
   "source": [
    "food1={'number':[1,2,3,4,5],'name':[\"corn\",\"banana\",\"chips\",\"popcorn\",\"pizza\"],'price':[8,3,4,8,6]}\n",
    "food2={'number':[1,2,3,4,5],'name':[\"apple\",\"banana\",\"beans\",\"popcorn\",\"pizza\"],'price':[2,3,4,8,6]}\n",
    "\n",
    "table2=pd.DataFrame(food1)\n",
    "table3=pd.DataFrame(food2)\n",
    "\n",
    "print(\"Food List1:\")\n",
    "print(table2)\n",
    "print(\"Food List2:\")\n",
    "print(table3)\n",
    "\n",
    "function= pd.merge(table2,table3,on='name')\n",
    "print(\"merge list1 and list2 on name:\")\n",
    "print (function)\n",
    "\n",
    "join=table1.join(table2)\n",
    "print(\"join list1 , list: \")\n",
    "\n",
    "print(join)"
   ]
  },
  {
   "cell_type": "code",
   "execution_count": 5,
   "id": "430fe364",
   "metadata": {},
   "outputs": [
    {
     "name": "stdout",
     "output_type": "stream",
     "text": [
      "converted form csv:\n",
      "   number     name  count\n",
      "0       1     corn      8\n",
      "1       2   banana      3\n",
      "2       3    chips      4\n",
      "3       4  popcorn      8\n",
      "4       5    pizza      6\n"
     ]
    }
   ],
   "source": [
    "foods = pd.read_csv('C:\\\\Users\\\\esmaeli.h\\\\Documents\\\\GitHub\\\\pythonToDataScience\\\\python-introduction-to-data-science\\\\source\\\\FoodList.csv')\n",
    "print (\"converted form csv:\")\n",
    "print (foods)\n",
    "foods.to_html(\"niceHtm2.html\")\n"
   ]
  },
  {
   "cell_type": "code",
   "execution_count": null,
   "id": "2c00e344",
   "metadata": {},
   "outputs": [],
   "source": []
  }
 ],
 "metadata": {
  "kernelspec": {
   "display_name": "Python 3 (ipykernel)",
   "language": "python",
   "name": "python3"
  },
  "language_info": {
   "codemirror_mode": {
    "name": "ipython",
    "version": 3
   },
   "file_extension": ".py",
   "mimetype": "text/x-python",
   "name": "python",
   "nbconvert_exporter": "python",
   "pygments_lexer": "ipython3",
   "version": "3.9.7"
  }
 },
 "nbformat": 4,
 "nbformat_minor": 5
}
