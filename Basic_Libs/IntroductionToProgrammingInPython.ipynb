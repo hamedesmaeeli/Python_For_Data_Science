{
 "cells": [
  {
   "cell_type": "code",
   "execution_count": 1,
   "id": "dd23241a",
   "metadata": {
    "scrolled": false
   },
   "outputs": [
    {
     "name": "stdout",
     "output_type": "stream",
     "text": [
      "Simple:\n",
      "a= 32.0\n",
      "b= 64\n",
      "c= 35.0\n",
      "d= 1.0\n",
      "e= 3\n",
      "f,g= 1.75 1\n",
      "Complex numbers:\n"
     ]
    },
    {
     "data": {
      "text/plain": [
       "5.0"
      ]
     },
     "execution_count": 1,
     "metadata": {},
     "output_type": "execute_result"
    }
   ],
   "source": [
    "# Numbers in Python:\n",
    "print ('Simple:')\n",
    "a= (2+4+6)*3-12/3\n",
    "print('a=',a)\n",
    "\n",
    "b= 8**2 # ** is used for power 2.\n",
    "print('b=',b)\n",
    "\n",
    "c = 34+1.0\n",
    "print ('c=',c)\n",
    "\n",
    "d= float(1)\n",
    "print('d=',d)\n",
    "\n",
    "e= int(3.56)\n",
    "print('e=',e)\n",
    "\n",
    "#Advanced Topic in Numbers\n",
    "f= 7/4\n",
    "g=7//4\n",
    "print('f,g=',f,g)\n",
    "\n",
    "#Complex numbers\n",
    "print('Complex numbers:')\n",
    "h=3+5j\n",
    "type(h)\n",
    "h.real\n",
    "h.imag\n",
    "\n"
   ]
  },
  {
   "cell_type": "code",
   "execution_count": 2,
   "id": "f55feb54",
   "metadata": {},
   "outputs": [
    {
     "name": "stdout",
     "output_type": "stream",
     "text": [
      "1.123456789\n",
      "a= 1.12 cms\n"
     ]
    }
   ],
   "source": [
    "#Screen Output\n",
    "a=1.123456789\n",
    "print (a)\n",
    "\n",
    "print ('a= %.2f' % a, 'cms')"
   ]
  },
  {
   "cell_type": "code",
   "execution_count": 3,
   "id": "17b3b3e9",
   "metadata": {},
   "outputs": [],
   "source": [
    "#Saving an Array to File\n",
    "import numpy\n",
    "data = numpy.zeros((5,2), dtype='float') # Make an empty 2-d array\n",
    "data[:,0] = numpy.arange(5.0) # Fill one column with numbers\n",
    "data[:,1] = data[:,0] ** 2.0 # Fill second column with squares\n",
    "numpy.savetxt('myFile.txt', data, fmt='%.3f',delimiter=',') # Save to file"
   ]
  },
  {
   "cell_type": "code",
   "execution_count": null,
   "id": "18ab1ec9",
   "metadata": {
    "scrolled": true
   },
   "outputs": [],
   "source": [
    "#Conditional blocks\n",
    "\n",
    "a = float(input('Please enter a positive number: '))\n",
    "if a < 0:\n",
    " print ('That is a negative number')\n",
    " print ('That is not what I asked for')\n",
    "else:\n",
    " print ('Thank you')\n",
    " print ('That is a positive number')"
   ]
  },
  {
   "cell_type": "code",
   "execution_count": null,
   "id": "d43877aa",
   "metadata": {},
   "outputs": [],
   "source": []
  },
  {
   "cell_type": "code",
   "execution_count": null,
   "id": "6edf79b1",
   "metadata": {},
   "outputs": [],
   "source": [
    "#Mathematical Functions and NumPy\n",
    "import numpy\n",
    "x=0.123\n",
    "y=numpy.sin(x)\n",
    "print (y)"
   ]
  },
  {
   "cell_type": "code",
   "execution_count": null,
   "id": "d8505053",
   "metadata": {},
   "outputs": [],
   "source": [
    "''' Program to find the value of the function y=3x+4 at a single point '''\n",
    "# x = float(input('Enter a number: '))\n",
    "x = 2.1\n",
    "y = x*3.0+4.0 #This is the algorithm\n",
    "print ('The result is: %.3f' % y)"
   ]
  },
  {
   "cell_type": "code",
   "execution_count": null,
   "id": "baccc91a",
   "metadata": {},
   "outputs": [],
   "source": [
    "#Lists\n",
    "a=[3,54,26,90]\n",
    "print (a)\n",
    "b=[3,54,'llama',a] # Include the list a in the list b\n",
    "print (b)\n",
    "h= b[0]\n",
    "print(h)\n",
    "e= a[-1]\n",
    "print(e)\n",
    "l= len(a)\n",
    "print(\"array length= \",l)\n",
    "\n",
    "#Slicing Lists\n",
    "c=[12,23,34,45,56,67,78]\n",
    "print ('Scliced array = ',c[3:6])"
   ]
  },
  {
   "cell_type": "code",
   "execution_count": null,
   "id": "7aa6f9c5",
   "metadata": {},
   "outputs": [],
   "source": [
    "#2-d Lists – Advanced Topic\n",
    "a=[[0,1,2],[3,4,5],[6,7,8]] # Create a 2-d list\n",
    "print(a)\n",
    "print (a[1][2]) # Addressing a 2-d list"
   ]
  },
  {
   "cell_type": "code",
   "execution_count": null,
   "id": "aec7c6fc",
   "metadata": {},
   "outputs": [],
   "source": [
    "#Basic List Operations\n",
    "#You can add one list to another:\n",
    "a=[1,2,3]\n",
    "b=[4,5,6]\n",
    "c= a+b\n",
    "print('a+b = ',c)\n",
    "\n",
    "#You can insert a new value in the middle of a list:\n",
    "a=[1,2,3,4,5,6,7,8,9]\n",
    "a.insert(3,99)\n",
    "print('a after inset',a)\n",
    "\n",
    "#You can look to see if a list contains a particular value. For this we use the membership operator known as in:\n",
    "a=[1,2,3,4,5,6]\n",
    "print(3 in a) # Think of it as a question: Is 3 in a?\n",
    "print(7 in a)"
   ]
  },
  {
   "cell_type": "code",
   "execution_count": null,
   "id": "23b3d75a",
   "metadata": {},
   "outputs": [],
   "source": [
    "#Fancy List Handling – zip() and map() – Advanced Topic\n",
    "a=[1,2,3]\n",
    "b=[4,5,6]\n",
    "c = zip(a,b)\n",
    "print(list(c))\n",
    "\n",
    "a=[1,2,3,4,5]\n",
    "b=map(float,a)# Apply the float() function to all elements\n",
    "print (list(b))"
   ]
  },
  {
   "cell_type": "code",
   "execution_count": null,
   "id": "f6b94a8b",
   "metadata": {},
   "outputs": [],
   "source": [
    "#Tuples - Tuples are lists that cannot be changed\n",
    "a=(1,2,3)\n",
    "a\n",
    "type(a)\n",
    "print (a[1])"
   ]
  },
  {
   "cell_type": "code",
   "execution_count": null,
   "id": "6125827b",
   "metadata": {},
   "outputs": [],
   "source": [
    "#String\n",
    "#They are very like a list in which every element is a character\n",
    "a='This parrot is dead'\n",
    "print (a[5:11])\n",
    "a[5] = 'f'\n",
    "\n",
    "\n"
   ]
  },
  {
   "cell_type": "code",
   "execution_count": null,
   "id": "49609c65",
   "metadata": {},
   "outputs": [],
   "source": [
    "\n",
    "#find(): Find a substring within a larger string\n",
    "#split(): Splits a string up into its elements in a list.\n",
    "#join(): Joins a list of strings (The opposite of split)\n",
    "\n",
    "a=\"Monty Python's Flying Circus\"\n",
    "print(a.find('Monty'))\n",
    "print(a.find('Python'))\n",
    "print(a.find('Gumby'))\n"
   ]
  },
  {
   "cell_type": "code",
   "execution_count": null,
   "id": "d1706dbe",
   "metadata": {},
   "outputs": [],
   "source": [
    "#Numpy arrays – An Introduction\n",
    "import numpy\n",
    "a=numpy.arange(9, dtype='float')\n",
    "print(a)\n",
    "a.shape=(3,3) # Use the shape method\n",
    "print('\\n',a)\n",
    "#You can change this 9 element 1-d vector into a 3x3 matrix thus:\n",
    "b=a**2\n",
    "print ('\\n','a**2','\\n',b)\n",
    "\n",
    "a = numpy.zeros((3,3), dtype=float) # Create a 3x3 array\n",
    "print ('\\n',a)"
   ]
  },
  {
   "cell_type": "code",
   "execution_count": null,
   "id": "ca8956b7",
   "metadata": {},
   "outputs": [],
   "source": [
    "#Addressing and Slicing Arrays in Numpy\n",
    "import numpy\n",
    "a=numpy.arange(9,dtype='float')\n",
    "print(a)\n",
    "print (a[1:5]) # A slice from element 1 to element 4\n",
    "\n",
    "a=numpy.arange(9,dtype='float')\n",
    "a.shape=(3,3) # Make it 2-d\n",
    "print(a)\n",
    "print (a[2,1]) #Print one element of the matrix\n",
    "\n",
    "#Slicing a 2-d array in summary:\n",
    "#• a[2:4, 7:9] – Slice out a small piece of an array (y from 2 to 3 and x from 7 to 8)\n",
    "#• a[:,0] – Slice out the whole of the first column\n",
    "#• a[0,:] – Slice out the whole of the first row\n",
    "\n"
   ]
  },
  {
   "cell_type": "code",
   "execution_count": null,
   "id": "55ecc773",
   "metadata": {},
   "outputs": [],
   "source": []
  },
  {
   "cell_type": "code",
   "execution_count": null,
   "id": "657b73d9",
   "metadata": {},
   "outputs": [],
   "source": [
    "#Dictionaries – Advanced Topic\n",
    "phonebook = {}\n",
    "phonebook['Fred'] = '12345'\n",
    "phonebook['Claire'] = '0234 7432'\n",
    "print (phonebook)\n",
    "print (phonebook['Claire'])\n",
    "print(len(phonebook))"
   ]
  },
  {
   "cell_type": "code",
   "execution_count": null,
   "id": "f95dc5cc",
   "metadata": {},
   "outputs": [],
   "source": [
    "#Indexing Sequences - Summary\n",
    "#Remember that all types of sequences are indexed using square brackets.\n",
    "#Remember that all indexes start at zero\n",
    "\n",
    "theName = 'Monty Python'\n",
    "print (theName[2]) # Index using square brackets\n"
   ]
  },
  {
   "cell_type": "code",
   "execution_count": null,
   "id": "5f960acf",
   "metadata": {},
   "outputs": [],
   "source": [
    "#Example ''' Program to hold a small database and look up entries in it '''\n",
    "# The list of items\n",
    "items = ['Spam', 'Ham', 'Egg', 'Beans', 'Bacon',\\\n",
    "'Sausage'] # Use a \\ to extend to the next line\n",
    "# The list of prices\n",
    "prices = [0.7, 1.2, 0.2, 0.52, 0.75, 0.6]\n",
    "item = input('Enter an item: ')\n",
    "theIndex = items.index(item) # Find the index of item in the list items\n",
    "# Let print format it as it likes:\n",
    "print (items[theIndex], 'costs ', prices[theIndex], ' pounds')\n",
    "# or format it exactly as we want it\n",
    "print ('%s costs %.2f pounds' % (items[theIndex],prices[theIndex]))"
   ]
  },
  {
   "cell_type": "code",
   "execution_count": null,
   "id": "2ee6cef5",
   "metadata": {},
   "outputs": [],
   "source": [
    "#Example '''Program to create an array and print a slice from it'''\n",
    "import numpy\n",
    "a = numpy.zeros((3,3),dtype='int') # Create a 3x3 array of integers\n",
    "a[0,0]=9; a[0,1]=8; a[0,2]=7 # First row\n",
    "a[1,0]=6; a[1,1]=5; a[1,2]=4 # Second row\n",
    "a[2,0]=3; a[2,1]=2; a[2,2]=1 # Third row\n",
    "print (\"The full matrix:\")\n",
    "print (a) # We could also use: print a[:,:]\n",
    "print (\"Slice out the second column and print it:\")\n",
    "print (a[:,1]) # Slice out a column\n",
    "print (\"Slice out part of the second row and print it:\")\n",
    "print (a[1,1:3]) # Slice out part of a row\n",
    "print (\"Slice out a 2x2 part of the array and print it:\")\n",
    "print (a[:2,:2]) # Slice out a sub-matrix"
   ]
  },
  {
   "cell_type": "code",
   "execution_count": null,
   "id": "1f1f6d37",
   "metadata": {},
   "outputs": [],
   "source": [
    "#Loops - The ‘while’ loop\n",
    "prompt = 'Please enter a positive number less than 10: '\n",
    "x=-1 # Initialise x to an invalid number\n",
    "while x<=0 or x>9:\n",
    " x = float(input(prompt)) # This is indented\n",
    "print ('Thank you. That number is fine.')"
   ]
  },
  {
   "cell_type": "code",
   "execution_count": null,
   "id": "485369ad",
   "metadata": {},
   "outputs": [],
   "source": [
    "#Loops – The ‘for’ loop\n",
    "cheeseList = ['Wensleydale', 'Stilton', 'Danish Blue', 'Red Leicester','Brie']\n",
    "for cheese in range(0, len(cheeseList)):\n",
    " print (\"Do you have some\", cheeseList[cheese], \"?\")\n",
    "print (\"Not as such\")\n",
    "\n",
    "\n",
    "#range(10) # Only the stop parameter is given\n",
    "#range(1,10) # Using start and stop\n",
    "#range(0,10,2) # Using start, stop and step\n"
   ]
  },
  {
   "cell_type": "code",
   "execution_count": null,
   "id": "d160eb2a",
   "metadata": {},
   "outputs": [],
   "source": [
    "#loops\n",
    "\n",
    "cheeseList = ['Wensleydale', 'Stilton', 'Danish Blue', 'Red Leicester','Brie']\n",
    "for cheese in cheeseList:\n",
    "    print (\"Do you have some\", cheese, \"?\")\n",
    "print (\"Not as such\")"
   ]
  },
  {
   "cell_type": "code",
   "execution_count": 1,
   "id": "e48b097d",
   "metadata": {},
   "outputs": [
    {
     "name": "stdout",
     "output_type": "stream",
     "text": [
      "Original array:  [ 1.2  6.  15.  21.   3.1]\n",
      "Squared array:  [  1.44  36.   225.   441.     9.61]\n"
     ]
    }
   ],
   "source": [
    "#'''Program to put some numbers into an array then create a new array of their squares'''\n",
    "import numpy\n",
    "x = numpy.array([1.2,6.,15.,21.,3.1]) # Create an array from a list\n",
    "y = numpy.zeros(len(x), dtype=float) # Create an array to hold the squares\n",
    "for i in range(len(x)): # Loop over a range from 0 up to the length of x\n",
    " y[i] = x[i]**2 # Square each element of x and put result in y\n",
    "print ('Original array: ', x)\n",
    "print ('Squared array: ', y)"
   ]
  },
  {
   "cell_type": "code",
   "execution_count": null,
   "id": "e0b6788c",
   "metadata": {},
   "outputs": [],
   "source": [
    "#'''Program to put some numbers into an array then create a new array of their squares.'''\n",
    "import numpy\n",
    "x = numpy.array([1.2,6.,15.,21.,3.1]) # Create an array from a list\n",
    "total = 0 # Initialise the total variable\n",
    "for i in range(len(x)): # Loop over a range from 0 up to the length of x\n",
    " total = total + x[i] # Add the next value in the array into the total\n",
    "print ('The array: ', x)\n",
    "print ('The total: ', total)\n",
    "\n",
    "\n",
    "#this very common process of finding the sum of an array can be done in one gousing NumPy\n",
    "x = numpy.array([1.2,6.,15.,21.,3.1]) # Create an array from a list\n",
    "total = numpy.sum(x) # Sum the entire array using the sum() method in numpy\n",
    "print ('The array: ', x)\n",
    "print ('The total: ', total)"
   ]
  },
  {
   "cell_type": "code",
   "execution_count": null,
   "id": "12effa80",
   "metadata": {},
   "outputs": [],
   "source": [
    "#'''Program to restrict the values of an array to less than 2*pi'''\n",
    "import numpy\n",
    "x = numpy.arange(0.,10.,0.2) # Create an array using numpy.arange()\n",
    "print ('The original array:\\n', x)\n",
    "for i in range(len(x)): # Loop over a range from 0 up to the length of x\n",
    " if (x[i] > 2*numpy.pi):\n",
    "  x[i] = x[i] - 2*numpy.pi # Restrict the data to < 2*pi\n",
    "print ('The restricted array:\\n', x) # would this work for all input values?\n",
    "\n",
    "#Again, this can be done faster using NumPy:\n",
    "x = numpy.arange(0.,10.,0.2) # Create an array using numpy.arange()\n",
    "print ('The original array:\\n', x)\n",
    "x = numpy.where(x>2*numpy.pi, x-2*numpy.pi, x) # Use an array conditional\n",
    "print ('The restricted array:\\n', x) # would this work for all input values?"
   ]
  },
  {
   "cell_type": "code",
   "execution_count": null,
   "id": "b504d802",
   "metadata": {},
   "outputs": [],
   "source": [
    "#'''Program to sort some numbers into ascending order'''\n",
    "import numpy\n",
    "# Create some floating numbers as a list and convert to an array\n",
    "x = numpy.array([23.2,12.1,1.2,34.6,0.1,15.2,19.3,45.6,3.4])\n",
    "print ('The original array:\\n', x)\n",
    "for cycle in range(len(x)): # Cycle enough times so that sort is complete\n",
    " for i in range(len(x)-1): # Correct order of each pair of values\n",
    "  if x[i] > x[i+1]:\n",
    "   temp = x[i] # Swap x[i] and x[i+1] by using another\n",
    "   x[i] = x[i+1] # variable as a temporary store\n",
    "   x[i+1] = temp\n",
    "print ('The array after cycle ', cycle, ':\\n', x)\n",
    "print ('The ordered array:\\n', x)\n",
    "\n",
    "\n",
    "\n",
    "\n",
    "#sorting with numpy\n",
    "\n",
    "print ('Use the numpy method')\n",
    "x = numpy.array([23.2,12.1,1.2,34.6,0.1,15.2,19.3,45.6,3.4])\n",
    "print ('The original array:\\n', x)\n",
    "x = numpy.sort(x)\n",
    "print ('The ordered array:\\n', x)"
   ]
  },
  {
   "cell_type": "code",
   "execution_count": null,
   "id": "d4b27954",
   "metadata": {},
   "outputs": [],
   "source": [
    "#First Function\n",
    "def poly(x):\n",
    "#Evaluate the polynomial x^3 - 7x^2 + 14x - 5\n",
    " return x**3 - 7*x**2 + 14*x - 5.0\n",
    "\n",
    "\n",
    "# Test program for the function poly()\n",
    "while True:\n",
    " xValue = float(input(\"Enter a value for x:\"))\n",
    " yValue = poly(xValue)\n",
    " print (\"The value of the polynomial is:\", yValue)"
   ]
  },
  {
   "cell_type": "code",
   "execution_count": null,
   "id": "da56f343",
   "metadata": {},
   "outputs": [],
   "source": [
    "#The return Statement\n",
    "def increment(x):\n",
    "# Increment function\n",
    " x += 1 # Equivalent to x = x+1\n",
    " return x # Return the incremented value\n",
    "# Main program\n",
    "value = 2\n",
    "y = increment(value)\n",
    "print(y)"
   ]
  },
  {
   "cell_type": "code",
   "execution_count": null,
   "id": "342fbc1d",
   "metadata": {},
   "outputs": [],
   "source": [
    "#Name Spaces and Scope\n",
    "#Function to demonstrate the scope of variables'''\n",
    "def myFunction(x):\n",
    "# Variables declared inside the function are local '''\n",
    " x = x+1\n",
    " myValue = 99\n",
    " print ('myValue in the function: ', myValue)\n",
    " print ('aGlobalVariable in the function: ', aGlobalVariable)\n",
    " return x\n",
    "# Main program. Variables declared here are global\n",
    "aGlobalVariable = 123\n",
    "myValue = 1\n",
    "print ('myValue in the global scope: ', myValue)\n",
    "print ('aGlobalVariable in the global scope: ', aGlobalVariable)\n",
    "result = myFunction(myValue)\n",
    "print ('the result is:', result)"
   ]
  },
  {
   "cell_type": "code",
   "execution_count": null,
   "id": "ccbce84a",
   "metadata": {},
   "outputs": [],
   "source": [
    "#Testing Functions and Modules\n",
    "# Example Module. This module contains some example functions and some code for testing them '''\n",
    "# Import system modules\n",
    "import time\n",
    "def swap(x, y):\n",
    "# Swaps values of x and y '''\n",
    " temp = x\n",
    " x = y\n",
    " y = temp\n",
    " return x, y # Returns 2 values\n",
    "def increment(value, inc=1):\n",
    "# Increases value by the increment. Default increment is 1 '''\n",
    " value = value + inc\n",
    " return value # Returns one value\n",
    "def printMessage(message):\n",
    "# Print messages to the screen with a time stamp '''\n",
    " now = time.asctime()\n",
    " print (now, ': ', message)\n",
    " # No return required\n",
    "def test():\n",
    " #Perform standard tests on functions in this module '''\n",
    "# Test the sway() function.\n",
    " value1 = 123; value2 = 987\n",
    " printMessage('Testing swap()')\n",
    " print ('Initial values:', value1, value2)\n",
    " value1, value2 = swap(value1, value2)\n",
    " print ('Swapped values:', value1, value2)\n",
    " # Test the increment() function.\n",
    " start = 123; theIncrement = 2\n",
    " printMessage('Testing increment()')\n",
    " print ('Start= ', start, 'Increment= ', theIncrement)\n",
    " new = increment(start, theIncrement)\n",
    " print ('Result= ', new)\n",
    "if __name__ == \"__main__\":\n",
    "# This code will run if the module is run directly.\n",
    "# It will not run if the module is imported.\n",
    " test() # Run the module standard test function.\n",
    "# Any other test code can go here."
   ]
  },
  {
   "cell_type": "code",
   "execution_count": null,
   "id": "6cb5a1b0",
   "metadata": {},
   "outputs": [],
   "source": [
    "#Catching ALL Exceptions\n",
    "try:\n",
    " a = float(input('Enter a number: '))\n",
    " b = float(input('Enter another number: '))\n",
    " print (a/b)\n",
    "except: # Catch ALL exceptions\n",
    " print ('The second number must not be zero')"
   ]
  },
  {
   "cell_type": "code",
   "execution_count": null,
   "id": "4d1a49fd",
   "metadata": {},
   "outputs": [],
   "source": [
    "a = float(input('Enter a number: '))\n",
    "b = float(input('Enter another number: '))\n",
    "try:\n",
    " print (a/b)\n",
    "except ZeroDivisionError: # Catch division by zero\n",
    " print ('The second number must not be zero')"
   ]
  },
  {
   "cell_type": "code",
   "execution_count": 18,
   "id": "45960b51",
   "metadata": {},
   "outputs": [
    {
     "name": "stdout",
     "output_type": "stream",
     "text": [
      "[1. 2. 3.]\n",
      "\n",
      "\n",
      "\n",
      "[[1 2 3 4]\n",
      " [5 6 7 8]]\n",
      "\n",
      " [ 0  1  2  3  4  5  6  7  8  9 10 11]\n",
      "\n",
      " [[ 0  1  2  3]\n",
      " [ 4  5  6  7]\n",
      " [ 8  9 10 11]]\n",
      "\n",
      " [[0. 0. 0. 0.]\n",
      " [0. 0. 0. 0.]\n",
      " [0. 0. 0. 0.]]\n",
      "\n",
      " [[1. 1.]\n",
      " [1. 1.]]\n"
     ]
    }
   ],
   "source": [
    "#Maths Modules: NumPy\n",
    "#Creating Arrays\n",
    "import numpy\n",
    "a= numpy.array([1.0,2.0,3.0])\n",
    "type(a)\n",
    "print(a)\n",
    "print('\\n\\n')\n",
    "a=numpy.array([[1,2,3,4],[5,6,7,8]])\n",
    "print(a)\n",
    "\n",
    "y = numpy.arange(12)\n",
    "print('\\n',y)\n",
    "\n",
    "y.shape = 3,4 # Make it a 3 by 4 matrix\n",
    "print('\\n',y)\n",
    "\n",
    "#Note: You should specify the type of data that you want. This can be done in two ways:\n",
    "#• y = numpy.arange(10, dtype=float) # Use the dtype parameter\n",
    "#• y = numpy.arange(10.0) # Use the type you want for the range\n",
    "#So arange(), unlike range(), can take floats as parameters.\n",
    "\n",
    "#There is a function to create an array with all zeros:\n",
    "a=numpy.zeros((3,4), dtype=float)\n",
    "print('\\n',a)\n",
    "\n",
    "#There is also a function to create a new array of ones:\n",
    "b=numpy.ones((2,2), dtype=float)\n",
    "print('\\n',b)\n",
    "\n",
    "\n",
    "\n",
    "#Summary: Creating arrays:\n",
    "#• From a list: a = numpy.array([1.1,2.2,3.3])\n",
    "#• Using arange(): a = numpy.arange(10, dtype=float)\n",
    "#• Using zeros(): a = numpy.zeros((10,20), dtype=float)"
   ]
  },
  {
   "cell_type": "code",
   "execution_count": 21,
   "id": "f9601369",
   "metadata": {},
   "outputs": [
    {
     "name": "stdout",
     "output_type": "stream",
     "text": [
      "[1 2 3] [1 2 3]\n",
      "[99  2  3] [1 2 3]\n"
     ]
    },
    {
     "data": {
      "text/plain": [
       "False"
      ]
     },
     "execution_count": 21,
     "metadata": {},
     "output_type": "execute_result"
    }
   ],
   "source": [
    "#Copying Arrays\n",
    "x=numpy.array([1,2,3])\n",
    "y=x\n",
    "#If  We changed x , y also will be changed. That is not what we wanted!\n",
    "y=numpy.copy(x) # Make a copy of x\n",
    "print  (x,y)\n",
    "x[0]=99\n",
    "print  (x,y)\n",
    "x is y"
   ]
  },
  {
   "cell_type": "code",
   "execution_count": 28,
   "id": "beda1046",
   "metadata": {},
   "outputs": [
    {
     "name": "stdout",
     "output_type": "stream",
     "text": [
      "[1. 2. 3. 4.]\n",
      "\n",
      " [[1. 2.]\n",
      " [3. 4.]]\n",
      "\n",
      " [[ 1.  4.]\n",
      " [ 9. 16.]]\n",
      "\n",
      " [[ 7. 10.]\n",
      " [15. 22.]]\n"
     ]
    },
    {
     "data": {
      "text/plain": [
       "['LinAlgError',\n",
       " '__builtins__',\n",
       " '__cached__',\n",
       " '__doc__',\n",
       " '__file__',\n",
       " '__loader__',\n",
       " '__name__',\n",
       " '__package__',\n",
       " '__path__',\n",
       " '__spec__',\n",
       " '_umath_linalg',\n",
       " 'cholesky',\n",
       " 'cond',\n",
       " 'det',\n",
       " 'eig',\n",
       " 'eigh',\n",
       " 'eigvals',\n",
       " 'eigvalsh',\n",
       " 'inv',\n",
       " 'lapack_lite',\n",
       " 'linalg',\n",
       " 'lstsq',\n",
       " 'matrix_power',\n",
       " 'matrix_rank',\n",
       " 'multi_dot',\n",
       " 'norm',\n",
       " 'pinv',\n",
       " 'qr',\n",
       " 'slogdet',\n",
       " 'solve',\n",
       " 'svd',\n",
       " 'tensorinv',\n",
       " 'tensorsolve',\n",
       " 'test']"
      ]
     },
     "execution_count": 28,
     "metadata": {},
     "output_type": "execute_result"
    }
   ],
   "source": [
    "#Linear Algebra\n",
    "#If you use the normal * for multiplication, NumPy will multiply all of the elements of two matrices together:\n",
    "a = numpy.arange(1,5,dtype=float)\n",
    "print(a)\n",
    "a.shape = 2,2\n",
    "print('\\n',a)\n",
    "\n",
    "b = numpy.arange(1,5,dtype=float)\n",
    "b.shape = 2,2\n",
    "c= a*b\n",
    "print('\\n',c)\n",
    "\n",
    "#If you want the dot product, use the function\n",
    "\n",
    "d = numpy.dot(a,b)\n",
    "print('\\n',d)\n",
    "\n",
    "#NumPy called numpy.linalg\n",
    "dir(numpy.linalg)"
   ]
  },
  {
   "cell_type": "code",
   "execution_count": 33,
   "id": "360df9e7",
   "metadata": {},
   "outputs": [
    {
     "data": {
      "text/plain": [
       "['This is the second line.\\n', 'This is yet another boring line.\\n']"
      ]
     },
     "execution_count": 33,
     "metadata": {},
     "output_type": "execute_result"
    }
   ],
   "source": [
    "#File Input and Output – The Details\n",
    "#Writing to File\n",
    "#r’ => You may only read from this file. This is usually the default.\n",
    "#‘w’ => You may only write to the file\n",
    "#‘a’ => You may append to the file. IE You will write after any data already in the file\n",
    "f = open('temp.txt', 'w')\n",
    "f.write('This is the first line.\\n')\n",
    "f.write('This is the second line.\\n')\n",
    "f.write('This is yet another boring line.\\n')\n",
    "f.close()\n",
    "\n",
    "k= open('temp.txt')\n",
    "k.readline()\n",
    "k.readlines()\n"
   ]
  },
  {
   "cell_type": "code",
   "execution_count": 36,
   "id": "5409e057",
   "metadata": {},
   "outputs": [
    {
     "name": "stdout",
     "output_type": "stream",
     "text": [
      "[1, 2, 3] [2, 4, 6]\n"
     ]
    },
    {
     "data": {
      "image/png": "[encoded data removed]",
      "text/plain": [
       "<Figure size 432x288 with 1 Axes>"
      ]
     },
     "metadata": {
      "needs_background": "light"
     },
     "output_type": "display_data"
    }
   ],
   "source": [
    "#PyLab: The absolute Basics\n",
    "import pylab\n",
    "a=[1,2,3]\n",
    "b=[2,4,6]\n",
    "print(a,b)\n",
    "pylab.plot(a,b)\n",
    "pylab.show()"
   ]
  },
  {
   "cell_type": "code",
   "execution_count": null,
   "id": "8c4b0d72",
   "metadata": {},
   "outputs": [],
   "source": []
  },
  {
   "cell_type": "code",
   "execution_count": null,
   "id": "1535b43b",
   "metadata": {},
   "outputs": [],
   "source": []
  }
 ],
 "metadata": {
  "kernelspec": {
   "display_name": "Python 3 (ipykernel)",
   "language": "python",
   "name": "python3"
  },
  "language_info": {
   "codemirror_mode": {
    "name": "ipython",
    "version": 3
   },
   "file_extension": ".py",
   "mimetype": "text/x-python",
   "name": "python",
   "nbconvert_exporter": "python",
   "pygments_lexer": "ipython3",
   "version": "3.9.7"
  }
 },
 "nbformat": 4,
 "nbformat_minor": 5
}
