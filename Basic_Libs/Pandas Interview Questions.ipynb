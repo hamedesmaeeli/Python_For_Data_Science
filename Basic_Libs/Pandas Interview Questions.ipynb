{
 "cells": [
  {
   "cell_type": "code",
   "execution_count": 1,
   "id": "1e525ac3",
   "metadata": {},
   "outputs": [],
   "source": [
    "#Basesd om Steve Nouri Document"
   ]
  },
  {
   "cell_type": "code",
   "execution_count": 2,
   "id": "904a0e5f",
   "metadata": {},
   "outputs": [],
   "source": [
    "## What is a series in pandas?\n",
    "\n",
    "#A Series is defined as a one-dimensional array that is capable of storing various data types.\n",
    "#The row labels of the series are called the index.\n",
    "#By using a 'series' method, we can easily convert the list, tuple, and dictionary into series.\n",
    "#A Series cannot contain multiple columns."
   ]
  },
  {
   "cell_type": "code",
   "execution_count": 3,
   "id": "60e131fa",
   "metadata": {},
   "outputs": [],
   "source": [
    "## What features make Pandas such a reliable option to store tabular data?\n",
    "\n",
    "#Memory Efficient, Data Alignment, Reshaping, Merge and join and Time Series."
   ]
  },
  {
   "cell_type": "code",
   "execution_count": 4,
   "id": "574f9662",
   "metadata": {},
   "outputs": [],
   "source": [
    "##What is reindexing in pandas?\n",
    "\n",
    "#Reindexing is used to conform DataFrame to a new index with optional filling logic.\n",
    "#It places NA/NaN in that location where the values are not present in the previous index.\n",
    "#It returns a new object unless the new index is produced as equivalent to the current one, and the value of copy becomes False.\n",
    "#It is used to change the index of the rows and columns of the DataFrame."
   ]
  },
  {
   "cell_type": "code",
   "execution_count": 7,
   "id": "cfde06b8",
   "metadata": {},
   "outputs": [
    {
     "name": "stdout",
     "output_type": "stream",
     "text": [
      "x    0.0\n",
      "y    1.0\n",
      "z    2.0\n",
      "dtype: float64\n"
     ]
    }
   ],
   "source": [
    "## How will you create a series from dict in Pandas?\n",
    "\n",
    "#A Series is defined as a one-dimensional array that is capable of storing various data types.\n",
    "import pandas as pd\n",
    "info = {'x' : 0., 'y' : 1., 'z' : 2.}\n",
    "a = pd.Series(info)\n",
    "print(a)"
   ]
  },
  {
   "cell_type": "code",
   "execution_count": 8,
   "id": "4c65431e",
   "metadata": {},
   "outputs": [
    {
     "ename": "TypeError",
     "evalue": "copy() missing 1 required positional argument: 'self'",
     "output_type": "error",
     "traceback": [
      "\u001b[1;31m---------------------------------------------------------------------------\u001b[0m",
      "\u001b[1;31mTypeError\u001b[0m                                 Traceback (most recent call last)",
      "\u001b[1;32m~\\AppData\\Local\\Temp/ipykernel_9704/1430742617.py\u001b[0m in \u001b[0;36m<module>\u001b[1;34m\u001b[0m\n\u001b[0;32m      1\u001b[0m \u001b[1;31m##How can we create a copy of the series in Pandas?\u001b[0m\u001b[1;33m\u001b[0m\u001b[1;33m\u001b[0m\u001b[0m\n\u001b[0;32m      2\u001b[0m \u001b[1;32mimport\u001b[0m \u001b[0mpandas\u001b[0m \u001b[1;32mas\u001b[0m \u001b[0mpd\u001b[0m\u001b[1;33m\u001b[0m\u001b[1;33m\u001b[0m\u001b[0m\n\u001b[1;32m----> 3\u001b[1;33m \u001b[0mpd\u001b[0m\u001b[1;33m.\u001b[0m\u001b[0mSeries\u001b[0m\u001b[1;33m.\u001b[0m\u001b[0mcopy\u001b[0m\u001b[1;33m(\u001b[0m\u001b[0mdeep\u001b[0m\u001b[1;33m=\u001b[0m\u001b[1;32mTrue\u001b[0m\u001b[1;33m)\u001b[0m\u001b[1;33m\u001b[0m\u001b[1;33m\u001b[0m\u001b[0m\n\u001b[0m",
      "\u001b[1;31mTypeError\u001b[0m: copy() missing 1 required positional argument: 'self'"
     ]
    }
   ],
   "source": [
    "##How can we create a copy of the series in Pandas?\n",
    "import pandas as pd\n",
    "pd.Series.copy(deep=True)"
   ]
  },
  {
   "cell_type": "code",
   "execution_count": 9,
   "id": "9e9a7b12",
   "metadata": {},
   "outputs": [],
   "source": [
    "##What is groupby in Pandas?\n",
    "\n",
    "#GroupBy is used to split the data into groups. It groups the data based on some criteria.\n",
    "#Grouping also provides a mapping of labels to the group names. \n",
    "#It has a lot of variations that can be defined with the parameters and makes the task of splitting the data quick and easy."
   ]
  },
  {
   "cell_type": "code",
   "execution_count": 10,
   "id": "37058c79",
   "metadata": {},
   "outputs": [],
   "source": [
    "##What is vectorization in Pandas?\n",
    "\n",
    "#Vectorization is the process of running operations on the entire array. \n",
    "#This is done to reduce the amount of iteration performed by the functions. \n",
    "#Pandas have a number of vectorized functions like aggregations, and string functions that are optimized to operate specifically on series and DataFrames. \n",
    "#So it is preferred to use the vectorized pandas functions to execute the operations quickly."
   ]
  },
  {
   "cell_type": "code",
   "execution_count": 11,
   "id": "6917b882",
   "metadata": {},
   "outputs": [],
   "source": [
    "##Mention the different types of Data Structures in Pandas\n",
    "\n",
    "#Pandas provide two data structures, which are supported by the pandas library, Series, and DataFrames.\n",
    "#Both of these data structures are built on top of the NumPy.\n"
   ]
  },
  {
   "cell_type": "code",
   "execution_count": 12,
   "id": "60e9cdf4",
   "metadata": {},
   "outputs": [],
   "source": [
    "##What Is Time Series In pandas\n",
    "#A time series is an ordered sequence of data which basically represents how some quantity changes over time.\n",
    "#pandas contains extensive capabilities and features for working with time series data for all domains.\n"
   ]
  },
  {
   "cell_type": "code",
   "execution_count": 13,
   "id": "3a977b54",
   "metadata": {},
   "outputs": [],
   "source": [
    "##How to convert pandas dataframe to numpy array?\n",
    "\n",
    "#The function to_numpy() is used to convert the DataFrame to a NumPy array.\n",
    "#DataFrame.to_numpy(self, dtype=None, copy=False)\n",
    "#The dtype parameter defines the data type to pass to the array and the copy ensures the returned value is not a view on another array."
   ]
  },
  {
   "cell_type": "code",
   "execution_count": 19,
   "id": "d245e3a2",
   "metadata": {
    "scrolled": true
   },
   "outputs": [
    {
     "data": {
      "text/html": [
       "<div>\n",
       "<style scoped>\n",
       "    .dataframe tbody tr th:only-of-type {\n",
       "        vertical-align: middle;\n",
       "    }\n",
       "\n",
       "    .dataframe tbody tr th {\n",
       "        vertical-align: top;\n",
       "    }\n",
       "\n",
       "    .dataframe thead th {\n",
       "        text-align: right;\n",
       "    }\n",
       "</style>\n",
       "<table border=\"1\" class=\"dataframe\">\n",
       "  <thead>\n",
       "    <tr style=\"text-align: right;\">\n",
       "      <th></th>\n",
       "      <th>name</th>\n",
       "    </tr>\n",
       "  </thead>\n",
       "  <tbody>\n",
       "    <tr>\n",
       "      <th>a</th>\n",
       "      <td>Anastasia</td>\n",
       "    </tr>\n",
       "    <tr>\n",
       "      <th>b</th>\n",
       "      <td>Dima</td>\n",
       "    </tr>\n",
       "    <tr>\n",
       "      <th>c</th>\n",
       "      <td>Katherine</td>\n",
       "    </tr>\n",
       "    <tr>\n",
       "      <th>d</th>\n",
       "      <td>James</td>\n",
       "    </tr>\n",
       "    <tr>\n",
       "      <th>e</th>\n",
       "      <td>Emily</td>\n",
       "    </tr>\n",
       "  </tbody>\n",
       "</table>\n",
       "</div>"
      ],
      "text/plain": [
       "        name\n",
       "a  Anastasia\n",
       "b       Dima\n",
       "c  Katherine\n",
       "d      James\n",
       "e      Emily"
      ]
     },
     "execution_count": 19,
     "metadata": {},
     "output_type": "execute_result"
    }
   ],
   "source": [
    "##Write a Pandas program to get the first 5 rows of a given DataFrame\n",
    "import pandas as pd\n",
    "exam_data = {'name': ['Anastasia', 'Dima', 'Katherine', 'James', 'Emily', 'Michael', 'Matthew', 'Laura', 'Kevin', 'Jonas'],}\n",
    "labels = ['a', 'b', 'c', 'd', 'e', 'f', 'g', 'h', 'i', 'j']\n",
    "df = pd.DataFrame(exam_data , index=labels)\n",
    "df.iloc[:5]\n"
   ]
  },
  {
   "cell_type": "code",
   "execution_count": 24,
   "id": "1a4c9ca0",
   "metadata": {},
   "outputs": [
    {
     "name": "stdout",
     "output_type": "stream",
     "text": [
      "0     2\n",
      "1     4\n",
      "2     6\n",
      "3     8\n",
      "4    10\n",
      "dtype: int64\n",
      "[2, 4, 6, 8, 10]\n"
     ]
    }
   ],
   "source": [
    "## Develop a Pandas program to create and display a one-dimensional arraylike object containing an array of data.\n",
    "import pandas as pd\n",
    "ds=pd.Series([2, 4, 6, 8, 10])\n",
    "print(ds)\n",
    "type(ds)\n",
    "ds.tolist()\n",
    "type(ds.tolist())\n",
    "print(ds.tolist())"
   ]
  },
  {
   "cell_type": "code",
   "execution_count": 33,
   "id": "f7e0d80b",
   "metadata": {},
   "outputs": [
    {
     "name": "stdout",
     "output_type": "stream",
     "text": [
      "\n",
      " ds1 == ds2 \n",
      " 0    False\n",
      "1    False\n",
      "2    False\n",
      "3    False\n",
      "4     True\n",
      "dtype: bool\n",
      "\n",
      " ds1 > ds2 \n",
      " 0     True\n",
      "1     True\n",
      "2     True\n",
      "3     True\n",
      "4    False\n",
      "dtype: bool\n",
      "\n",
      " ds1 < ds2 \n",
      " 0    False\n",
      "1    False\n",
      "2    False\n",
      "3    False\n",
      "4    False\n",
      "dtype: bool\n"
     ]
    }
   ],
   "source": [
    "##Develop a Pandas program to add, subtract, multiple and divide two Pandas Series.\n",
    "import pandas as pd\n",
    "ds1 = pd.Series([2, 4, 6, 8, 10])\n",
    "ds2 = pd.Series([1, 3, 5, 7, 10])\n",
    "print('\\n ds1 == ds2 \\n',ds1 == ds2)\n",
    "print('\\n ds1 > ds2 \\n',ds1 > ds2)\n",
    "print('\\n ds1 < ds2 \\n',ds1 < ds2)"
   ]
  },
  {
   "cell_type": "code",
   "execution_count": 36,
   "id": "36f8cbb6",
   "metadata": {},
   "outputs": [
    {
     "data": {
      "text/plain": [
       "0    100.00\n",
       "1    200.00\n",
       "2       NaN\n",
       "3    300.12\n",
       "4    400.00\n",
       "dtype: float64"
      ]
     },
     "execution_count": 36,
     "metadata": {},
     "output_type": "execute_result"
    }
   ],
   "source": [
    "#Develop a Pandas program to change the data type of given a column or a Series.\n",
    "import pandas as pd\n",
    "s1 = pd.Series(['100', '200', 'python', '300.12', '400'])\n",
    "s2 = pd.to_numeric(s1, errors='coerce')\n",
    "s2"
   ]
  },
  {
   "cell_type": "code",
   "execution_count": 39,
   "id": "5ca3e69c",
   "metadata": {},
   "outputs": [
    {
     "name": "stdout",
     "output_type": "stream",
     "text": [
      "0           [Red, Black]\n",
      "1    [Red, Green, White]\n",
      "2               [Yellow]\n",
      "dtype: object\n",
      "0       Red\n",
      "1     Black\n",
      "2       Red\n",
      "3     Green\n",
      "4     White\n",
      "5    Yellow\n",
      "dtype: object\n"
     ]
    }
   ],
   "source": [
    "##Write a Pandas program to convert Series of lists to one Series\n",
    "import pandas as pd\n",
    "s = pd.Series([ ['Red', 'Black'], ['Red', 'Green', 'White'] , ['Yellow']])\n",
    "print(s)\n",
    "s = s.apply(pd.Series).stack().reset_index(drop=True)\n",
    "print(s)"
   ]
  },
  {
   "cell_type": "code",
   "execution_count": 40,
   "id": "be6d7ba0",
   "metadata": {},
   "outputs": [
    {
     "data": {
      "text/plain": [
       "0    0\n",
       "1    1\n",
       "2    2\n",
       "3    3\n",
       "4    4\n",
       "5    5\n",
       "dtype: int64"
      ]
     },
     "execution_count": 40,
     "metadata": {},
     "output_type": "execute_result"
    }
   ],
   "source": [
    "##Write a Pandas program to create a subset of a given series basedon value and condition\n",
    "import pandas as pd\n",
    "s = pd.Series([0, 1,2,3,4,5,6,7,8,9,10])\n",
    "n = 6\n",
    "new_s = s[s < n]\n",
    "new_s"
   ]
  },
  {
   "cell_type": "code",
   "execution_count": 43,
   "id": "a5d23fd7",
   "metadata": {},
   "outputs": [
    {
     "name": "stdout",
     "output_type": "stream",
     "text": [
      "A    1\n",
      "B    2\n",
      "C    3\n",
      "D    4\n",
      "E    5\n",
      "dtype: int64\n",
      "B    2\n",
      "A    1\n",
      "C    3\n",
      "D    4\n",
      "E    5\n",
      "dtype: int64\n"
     ]
    }
   ],
   "source": [
    "##Develop a Pandas code to alter the order of index in a given series\n",
    "import pandas as pd\n",
    "s = pd.Series(data = [1,2,3,4,5], index = ['A', 'B', 'C','D','E'])\n",
    "print(s)\n",
    "s1= s.reindex(index = ['B','A','C','D','E'])\n",
    "print(s1)"
   ]
  },
  {
   "cell_type": "code",
   "execution_count": 46,
   "id": "ac45208a",
   "metadata": {},
   "outputs": [
    {
     "data": {
      "text/plain": [
       "0    1\n",
       "2    3\n",
       "4    5\n",
       "dtype: int64"
      ]
     },
     "execution_count": 46,
     "metadata": {},
     "output_type": "execute_result"
    }
   ],
   "source": [
    "## Write a Pandas code to get the items of a givenseries not present in another given series.\n",
    "import pandas as pd\n",
    "sr1 = pd.Series([1, 2, 3, 4, 5])\n",
    "sr2 = pd.Series([2, 4, 6, 8, 10])\n",
    "result = sr1[~sr1.isin(sr2)]\n",
    "result"
   ]
  },
  {
   "cell_type": "code",
   "execution_count": 47,
   "id": "e23ba7aa",
   "metadata": {},
   "outputs": [],
   "source": [
    "## What is the difference between the two data series df[‘Name’] and df.loc[:, ‘Name’]?\n",
    "\n",
    "#First one is a view of the original dataframe and second one is a copy of the original dataframe."
   ]
  },
  {
   "cell_type": "code",
   "execution_count": 63,
   "id": "18c12fa1",
   "metadata": {},
   "outputs": [
    {
     "name": "stdout",
     "output_type": "stream",
     "text": [
      "num_ series : \n",
      " 0     1\n",
      "1     2\n",
      "2     4\n",
      "3     1\n",
      "4     1\n",
      "5     4\n",
      "6     4\n",
      "7     2\n",
      "8     1\n",
      "9     2\n",
      "10    2\n",
      "11    2\n",
      "12    1\n",
      "13    4\n",
      "14    2\n",
      "dtype: int32\n",
      "num_series.value_counts():\n",
      " 2    6\n",
      "1    5\n",
      "4    4\n",
      "dtype: int64\n",
      "\n",
      " result: \n",
      " 0     replaced\n",
      "1            2\n",
      "2     replaced\n",
      "3     replaced\n",
      "4     replaced\n",
      "5     replaced\n",
      "6     replaced\n",
      "7            2\n",
      "8     replaced\n",
      "9            2\n",
      "10           2\n",
      "11           2\n",
      "12    replaced\n",
      "13    replaced\n",
      "14           2\n",
      "dtype: object\n"
     ]
    }
   ],
   "source": [
    "##Write a Pandas program to display the most frequent value in a given series and replace everything else as “replaced” in the series.\n",
    "import pandas as pd\n",
    "import numpy as np\n",
    "np.random.RandomState(100)\n",
    "num_series = pd.Series(np.random.randint(1, 5, [15]))\n",
    "print('num_ series : \\n',num_series)\n",
    "print('num_series.value_counts():\\n',num_series.value_counts())\n",
    "result = num_series[~num_series.isin(num_series.value_counts().index[:1])] = 'replaced'\n",
    "print('\\n result: \\n',num_series)"
   ]
  },
  {
   "cell_type": "code",
   "execution_count": 15,
   "id": "d34eccb2",
   "metadata": {},
   "outputs": [
    {
     "name": "stdout",
     "output_type": "stream",
     "text": [
      "0    1\n",
      "1    8\n",
      "2    5\n",
      "3    8\n",
      "4    6\n",
      "dtype: int32\n"
     ]
    }
   ],
   "source": [
    "##Write a Pandas program to find the positions of numbers that are multiples of 5 of a given series.\n",
    "import pandas as pd\n",
    "import numpy as np\n",
    "num_series = pd.Series(np.random.randint(0, 10,5))\n",
    "print(num_series)\n",
    "#result = np.argwhere(num_series %5 ==0)"
   ]
  },
  {
   "cell_type": "code",
   "execution_count": 3,
   "id": "04693531",
   "metadata": {},
   "outputs": [
    {
     "name": "stdout",
     "output_type": "stream",
     "text": [
      "   one  two\n",
      "a  1.0    1\n",
      "b  2.0    2\n",
      "c  3.0    3\n",
      "d  4.0    4\n",
      "e  5.0    5\n",
      "f  NaN    6\n",
      "   one  two  three\n",
      "a  1.0    1   20.0\n",
      "b  2.0    2   40.0\n",
      "c  3.0    3   60.0\n",
      "d  4.0    4    NaN\n",
      "e  5.0    5    NaN\n",
      "f  NaN    6    NaN\n"
     ]
    }
   ],
   "source": [
    "##How will you add a column to a pandas DataFrame\n",
    "import pandas as pd\n",
    "info = {'one' : pd.Series([1, 2, 3, 4, 5], index=['a', 'b', 'c', 'd', 'e']), 'two' : pd.Series([1, 2, 3, 4, 5, 6], index=['a', 'b', 'c', 'd', 'e', 'f'])}\n",
    "info = pd.DataFrame(info)\n",
    "print(info)\n",
    "# Add a new column to an existing DataFrame object\n",
    "info['three']=pd.Series([20,40,60],index=['a','b','c'])\n",
    "print(info)\n"
   ]
  },
  {
   "cell_type": "code",
   "execution_count": null,
   "id": "2bba8b43",
   "metadata": {},
   "outputs": [],
   "source": [
    "#How to iterate over a Pandas DataFrame?\n",
    "#You can iterate over the rows of the DataFrame by using for loop in combination with an iterrows() call on the DataFrame"
   ]
  }
 ],
 "metadata": {
  "kernelspec": {
   "display_name": "Python 3 (ipykernel)",
   "language": "python",
   "name": "python3"
  },
  "language_info": {
   "codemirror_mode": {
    "name": "ipython",
    "version": 3
   },
   "file_extension": ".py",
   "mimetype": "text/x-python",
   "name": "python",
   "nbconvert_exporter": "python",
   "pygments_lexer": "ipython3",
   "version": "3.9.7"
  }
 },
 "nbformat": 4,
 "nbformat_minor": 5
}
