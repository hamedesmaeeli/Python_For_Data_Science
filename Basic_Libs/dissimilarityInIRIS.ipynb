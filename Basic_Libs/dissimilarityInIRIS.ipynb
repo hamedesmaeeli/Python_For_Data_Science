{
 "cells": [
  {
   "cell_type": "code",
   "execution_count": 27,
   "metadata": {
    "colab": {
     "base_uri": "https://localhost:8080/"
    },
    "executionInfo": {
     "elapsed": 648,
     "status": "ok",
     "timestamp": 1634135001228,
     "user": {
      "displayName": "hamed esmaili",
      "photoUrl": "https://lh3.googleusercontent.com/a/default-user=s64",
      "userId": "14803691342621100370"
     },
     "user_tz": -210
    },
    "id": "J5f6RyBL5w2c",
    "outputId": "48307d38-4e31-487c-f697-4d1d6b4b7e40"
   },
   "outputs": [
    {
     "name": "stdout",
     "output_type": "stream",
     "text": [
      "Iris data  first 6 rows: \n",
      " [[5.1 3.5 1.4 0.2]\n",
      " [4.9 3.  1.4 0.2]\n",
      " [4.7 3.2 1.3 0.2]\n",
      " [4.6 3.1 1.5 0.2]]\n",
      "Euclidean Distance : \n",
      "            0\n",
      "0  0.538516\n",
      "1  0.509902\n",
      "2  0.648074\n",
      "3  0.300000\n",
      "4  0.331662\n",
      "5  0.244949\n",
      "Euclidean Distance in square form : \n",
      "  [[0.         0.53851648 0.50990195 0.64807407]\n",
      " [0.53851648 0.         0.3        0.33166248]\n",
      " [0.50990195 0.3        0.         0.24494897]\n",
      " [0.64807407 0.33166248 0.24494897 0.        ]]\n",
      "jaccard Distance : \n",
      "        0\n",
      "0  0.50\n",
      "1  0.75\n",
      "2  0.75\n",
      "3  0.75\n",
      "4  0.75\n",
      "5  0.75\n",
      "jaccard Distance in square form : \n",
      "  [[0.   0.5  0.75 0.75]\n",
      " [0.5  0.   0.75 0.75]\n",
      " [0.75 0.75 0.   0.75]\n",
      " [0.75 0.75 0.75 0.  ]]\n",
      "d_cosine Distance : \n",
      "            0\n",
      "0  0.001421\n",
      "1  0.000013\n",
      "2  0.000899\n",
      "3  0.001209\n",
      "4  0.001206\n",
      "5  0.000783\n",
      "d_cosine Distance in square form : \n",
      "  [[0.00000000e+00 1.42083650e-03 1.26527175e-05 8.99393151e-04]\n",
      " [1.42083650e-03 0.00000000e+00 1.20854727e-03 1.20606955e-03]\n",
      " [1.26527175e-05 1.20854727e-03 0.00000000e+00 7.83016618e-04]\n",
      " [8.99393151e-04 1.20606955e-03 7.83016618e-04 0.00000000e+00]]\n"
     ]
    }
   ],
   "source": [
    "from scipy.spatial.distance import pdist, jaccard\n",
    "from scipy.spatial.distance import squareform\n",
    "\n",
    "import pandas as pd\n",
    "\n",
    "# The iris dataset is available from the sci-kit learn package\n",
    "from sklearn import datasets\n",
    "iris = datasets.load_iris()\n",
    "\n",
    "# Print the first 6 rows\n",
    "# Sepal Length, Sepal Width, Petal Length, Petal Width\n",
    "#irisdb = iris.data[:6, ]\n",
    "irisdb = iris.data[:4, ]\n",
    "print('Iris data  first 6 rows: \\n',irisdb) \n",
    "\n",
    "# Compute distance matrix\n",
    "# d = pdist(X=iris.data[:, [0, 3]], metric=\"euclidean\")\n",
    "\n",
    "d_euclidean = pdist(X=irisdb, metric=\"euclidean\")\n",
    "\n",
    "df = pd.DataFrame(d_euclidean )\n",
    "\n",
    "print('Euclidean Distance : \\n ',df )\n",
    "\n",
    "print('Euclidean Distance in square form : \\n ',squareform(d_euclidean))\n",
    "\n",
    "d_jaccard = pdist(X=irisdb, metric=\"jaccard\")\n",
    "\n",
    "df = pd.DataFrame(d_jaccard )\n",
    "\n",
    "print('jaccard Distance : \\n ',df )\n",
    "\n",
    "print('jaccard Distance in square form : \\n ',squareform(d_jaccard))\n",
    "\n",
    "\n",
    "d_cosine = pdist(X=irisdb, metric=\"cosine\")\n",
    "\n",
    "df = pd.DataFrame(d_cosine )\n",
    "\n",
    "print('d_cosine Distance : \\n ',df )\n",
    "\n",
    "print('d_cosine Distance in square form : \\n ',squareform(d_cosine))"
   ]
  },
  {
   "cell_type": "code",
   "execution_count": 30,
   "metadata": {},
   "outputs": [
    {
     "name": "stdout",
     "output_type": "stream",
     "text": [
      "converted form csv:\n",
      "   team  morabi  haki  baseball  football  penalti  score  barandeh  bazandeh  \\\n",
      "0     5       0     3         0         2        0      0         2         0   \n",
      "1     3       0     2         0         1        1      0         1         0   \n",
      "2     0       7     0         2         1        0      0         3         0   \n",
      "3     0       1     0         0         1        2      2         0         3   \n",
      "\n",
      "   fasl  \n",
      "0     0  \n",
      "1     1  \n",
      "2     0  \n",
      "3     0  \n",
      "d_cosine Distance : \n",
      "            0\n",
      "0  0.064399\n",
      "1  0.844477\n",
      "2  0.929201\n",
      "3  0.877774\n",
      "4  0.833076\n",
      "5  0.768771\n",
      "d_cosine Distance in square form : \n",
      "  [[0.         0.06439851 0.84447684 0.92920077]\n",
      " [0.06439851 0.         0.87777353 0.83307553]\n",
      " [0.84447684 0.87777353 0.         0.76877067]\n",
      " [0.92920077 0.83307553 0.76877067 0.        ]]\n"
     ]
    }
   ],
   "source": [
    "documnets = pd.read_csv('DocumentListTest.csv')\n",
    "print (\"converted form csv:\")\n",
    "print (documnets)\n",
    "\n",
    "d_cosine = pdist(X=documnets, metric=\"cosine\")\n",
    "\n",
    "df = pd.DataFrame(d_cosine )\n",
    "\n",
    "print('d_cosine Distance : \\n ',df )\n",
    "\n",
    "print('d_cosine Distance in square form : \\n ',squareform(d_cosine))"
   ]
  },
  {
   "cell_type": "code",
   "execution_count": null,
   "metadata": {},
   "outputs": [],
   "source": []
  },
  {
   "cell_type": "code",
   "execution_count": null,
   "metadata": {},
   "outputs": [],
   "source": []
  }
 ],
 "metadata": {
  "colab": {
   "authorship_tag": "ABX9TyM76GB2thQzPO3sLHTEw9PU",
   "name": "dissimilarityInIRIS.ipynb",
   "provenance": []
  },
  "kernelspec": {
   "display_name": "Python 3 (ipykernel)",
   "language": "python",
   "name": "python3"
  },
  "language_info": {
   "codemirror_mode": {
    "name": "ipython",
    "version": 3
   },
   "file_extension": ".py",
   "mimetype": "text/x-python",
   "name": "python",
   "nbconvert_exporter": "python",
   "pygments_lexer": "ipython3",
   "version": "3.9.7"
  }
 },
 "nbformat": 4,
 "nbformat_minor": 1
}
