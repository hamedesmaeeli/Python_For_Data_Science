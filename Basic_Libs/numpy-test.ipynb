{
 "cells": [
  {
   "cell_type": "code",
   "execution_count": 1,
   "id": "31fcc6ad",
   "metadata": {},
   "outputs": [],
   "source": [
    "import numpy as np"
   ]
  },
  {
   "cell_type": "code",
   "execution_count": 4,
   "id": "2d8394a8",
   "metadata": {},
   "outputs": [
    {
     "name": "stdout",
     "output_type": "stream",
     "text": [
      "[1 2 3]\n",
      "[3 4 6]\n",
      "[4 6 9]\n",
      "[ 10.  20.  30.  40.  50.  60.  70.  80.  90. 100.]\n",
      "[3 6 9]\n",
      "9\n",
      "45\n",
      "[12 15 18]\n",
      "[1 2 3 4 5 6 7 8 9]\n",
      "[[1.         1.41421356 1.73205081]\n",
      " [2.         2.23606798 2.44948974]\n",
      " [2.64575131 2.82842712 3.        ]]\n",
      "0.816496580927726\n"
     ]
    }
   ],
   "source": [
    "var1 = np.array([1,2,3])\n",
    "print(var1)\n",
    "var2 = np.array([3,4,6])\n",
    "print(var2)\n",
    "print(var1+var2)\n",
    "print(np.linspace(10,100,10)) #creating numeric sequences\n",
    "var3= np.array([(1,2,3),(4,5,6),(7,8,9)])\n",
    "print(var3[0:,2])\n",
    "print(var3.max()) \n",
    "print(var3.sum())\n",
    "print(var3.sum(axis=0))\n",
    "print(var3.ravel())\n",
    "print(np.sqrt(var3))\n",
    "print(np.std(var1)) #standard deviation means that most of the numbers are close to the mean (average) value\n"
   ]
  },
  {
   "cell_type": "code",
   "execution_count": null,
   "id": "d4659ed7",
   "metadata": {},
   "outputs": [],
   "source": []
  },
  {
   "cell_type": "code",
   "execution_count": null,
   "id": "3bd09a9f",
   "metadata": {},
   "outputs": [],
   "source": []
  }
 ],
 "metadata": {
  "kernelspec": {
   "display_name": "Python 3 (ipykernel)",
   "language": "python",
   "name": "python3"
  },
  "language_info": {
   "codemirror_mode": {
    "name": "ipython",
    "version": 3
   },
   "file_extension": ".py",
   "mimetype": "text/x-python",
   "name": "python",
   "nbconvert_exporter": "python",
   "pygments_lexer": "ipython3",
   "version": "3.9.7"
  }
 },
 "nbformat": 4,
 "nbformat_minor": 5
}
