{
 "cells": [
  {
   "cell_type": "code",
   "execution_count": 1,
   "id": "4b30db56",
   "metadata": {},
   "outputs": [],
   "source": [
    " name1=\"Pizza\"\n",
    " name2=\"Pasta\"\n",
    "qt1=4\n",
    "qt2=3"
   ]
  },
  {
   "cell_type": "code",
   "execution_count": 2,
   "id": "e754f260",
   "metadata": {},
   "outputs": [
    {
     "name": "stdout",
     "output_type": "stream",
     "text": [
      "I want  4 Pizza and  3 Pasta\n"
     ]
    }
   ],
   "source": [
    "print(\"I want  \"+ str(qt1)+ \" \"+name1 + \" and  \" +str(qt2) + \" \"+name2 )"
   ]
  },
  {
   "cell_type": "code",
   "execution_count": null,
   "id": "28674fc7",
   "metadata": {},
   "outputs": [],
   "source": []
  },
  {
   "cell_type": "code",
   "execution_count": null,
   "id": "63cc4e44",
   "metadata": {},
   "outputs": [],
   "source": []
  }
 ],
 "metadata": {
  "kernelspec": {
   "display_name": "Python 3 (ipykernel)",
   "language": "python",
   "name": "python3"
  },
  "language_info": {
   "codemirror_mode": {
    "name": "ipython",
    "version": 3
   },
   "file_extension": ".py",
   "mimetype": "text/x-python",
   "name": "python",
   "nbconvert_exporter": "python",
   "pygments_lexer": "ipython3",
   "version": "3.9.7"
  }
 },
 "nbformat": 4,
 "nbformat_minor": 5
}
