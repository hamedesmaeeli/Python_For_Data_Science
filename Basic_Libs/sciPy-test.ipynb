{
 "cells": [
  {
   "cell_type": "code",
   "execution_count": 1,
   "id": "6ed28c09",
   "metadata": {},
   "outputs": [
    {
     "name": "stdout",
     "output_type": "stream",
     "text": [
      "[[12.-0.j         -3.+1.73205081j -3.-1.73205081j]\n",
      " [ 9.-0.j         -3.+1.73205081j -3.-1.73205081j]]\n"
     ]
    }
   ],
   "source": [
    "import scipy as sp\n",
    "import numpy as np\n",
    "from scipy import fft\n",
    "var1 = np.array([[2,4,6],[1,3,5]])\n",
    "trans1 = sp.fft.fft(var1)#Fourier Transforms\n",
    "print(trans1)"
   ]
  },
  {
   "cell_type": "code",
   "execution_count": 2,
   "id": "6f7e68fe",
   "metadata": {},
   "outputs": [
    {
     "name": "stdout",
     "output_type": "stream",
     "text": [
      "[[-1. -6.]\n",
      " [ 2.  5.]]\n"
     ]
    }
   ],
   "source": [
    "from scipy import linalg\n",
    "array1=np.array(([1,3],[2,4]))\n",
    "array2=np.array(([5,9],[6,8]))\n",
    "print(sp.linalg.solve(array1,array2))"
   ]
  },
  {
   "cell_type": "code",
   "execution_count": null,
   "id": "19b58d5c",
   "metadata": {},
   "outputs": [],
   "source": []
  },
  {
   "cell_type": "code",
   "execution_count": null,
   "id": "6a03b20a",
   "metadata": {},
   "outputs": [],
   "source": []
  }
 ],
 "metadata": {
  "kernelspec": {
   "display_name": "Python 3 (ipykernel)",
   "language": "python",
   "name": "python3"
  },
  "language_info": {
   "codemirror_mode": {
    "name": "ipython",
    "version": 3
   },
   "file_extension": ".py",
   "mimetype": "text/x-python",
   "name": "python",
   "nbconvert_exporter": "python",
   "pygments_lexer": "ipython3",
   "version": "3.9.7"
  }
 },
 "nbformat": 4,
 "nbformat_minor": 5
}
