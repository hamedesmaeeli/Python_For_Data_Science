{
 "cells": [
  {
   "cell_type": "code",
   "execution_count": 7,
   "id": "433af9fc",
   "metadata": {},
   "outputs": [
    {
     "name": "stdout",
     "output_type": "stream",
     "text": [
      "After inserting 0 persons on the queue, it contains:\n",
      " [\n",
      "Is queue full? False\n",
      "Removing items from the queue:\n",
      "\n"
     ]
    }
   ],
   "source": [
    "# Implement a Queue data structure using a Python list\n",
    "class Queue(object):\n",
    "\n",
    "    def __init__(self, size): # Constructor\n",
    "        self.maxSize = size # Size of [circular] array\n",
    "        self.que = [None] * size # Queue stored as a list\n",
    "        self.front = 1 # Empty Queue has front 1\n",
    "        self.rear = 0 # after rear and\n",
    "        self.nItems = 0 # No items in queue\n",
    "\n",
    "    def insert(self, item): # Insert item at rear of queue\n",
    "        if self.isFull(): # if not full\n",
    "            raise Exception(\"Queue overflow\")\n",
    "        self.rear += 1 # Rear moves one to the right\n",
    "        if self.rear == self.maxSize: # Wrap around circular array\n",
    "            self.rear = 0\n",
    "            self.que[self.rear] = item # Store item at rear\n",
    "            self.nItems += 1\n",
    "            return True\n",
    "\n",
    "    def remove(self): # Remove front item of queue\n",
    "        if self.isEmpty(): # and return it, if not empty\n",
    "            raise Exception(\"Queue underflow\")\n",
    "        front = self.que[self.front] # get the value at front\n",
    "        self.que[self.front] = None # Remove item reference\n",
    "        self.front += 1 # front moves one to the right\n",
    "        if self.front == self.maxSize: # Wrap around circular arr.\n",
    "            self.front = 0\n",
    "            self.nItems -= 1\n",
    "            return front\n",
    "    \n",
    "    def peek(self): # Return frontmost item\n",
    "       \n",
    "        if self.isEmpty():\n",
    "             return None\n",
    "        else: \n",
    "            self.que[self.front]\n",
    "    \n",
    "    def isEmpty(self):\n",
    "        return  self.nItems == 0\n",
    "    \n",
    "    def isFull(self): \n",
    "        return self.nItems == self.maxSize\n",
    "    \n",
    "    def __len__(self): \n",
    "        return self.nItems\n",
    "    \n",
    "    def __str__(self): # Convert queue to string\n",
    "        ans = \"[\" # Start with left bracket\n",
    "        for i in range(self.nItems): # Loop through current items\n",
    "            if len(ans) > 1: # Except next to left bracket,\n",
    "                ans += \", \" # separate items with comma\n",
    "                j = i + self.front # Offset from front\n",
    "            if j >= self.maxSize: # Wrap around circular array\n",
    "                j -= self.maxSize\n",
    "                ans += str(self.que[j]) # Add string form of item\n",
    "                ans += \"]\" # Close with right bracket\n",
    "        return ans\n",
    "    \n",
    "queue = Queue(10)\n",
    "for person in ['Don', 'Ken', 'Ivan', 'Raj', 'Amir', 'Adi']:\n",
    "    queue.insert(person)\n",
    "print('After inserting', len(queue),'persons on the queue, it contains:\\n', queue)\n",
    "print('Is queue full?', queue.isFull())\n",
    "print('Removing items from the queue:')\n",
    "while not queue.isEmpty():\n",
    "    print(queue.remove(), end=' ' )\n",
    "print()"
   ]
  },
  {
   "cell_type": "code",
   "execution_count": null,
   "id": "5a22f4ff",
   "metadata": {},
   "outputs": [],
   "source": []
  }
 ],
 "metadata": {
  "kernelspec": {
   "display_name": "Python 3 (ipykernel)",
   "language": "python",
   "name": "python3"
  },
  "language_info": {
   "codemirror_mode": {
    "name": "ipython",
    "version": 3
   },
   "file_extension": ".py",
   "mimetype": "text/x-python",
   "name": "python",
   "nbconvert_exporter": "python",
   "pygments_lexer": "ipython3",
   "version": "3.9.7"
  }
 },
 "nbformat": 4,
 "nbformat_minor": 5
}
