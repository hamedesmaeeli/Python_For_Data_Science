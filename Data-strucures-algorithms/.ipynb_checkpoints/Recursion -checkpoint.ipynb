{
 "cells": [
  {
   "cell_type": "code",
   "execution_count": 2,
   "id": "5d218957",
   "metadata": {},
   "outputs": [
    {
     "name": "stdout",
     "output_type": "stream",
     "text": [
      "5050\n",
      "5050\n"
     ]
    }
   ],
   "source": [
    "\n",
    "def triangular_loop(nth): # Get the nth triangular number using a loop\n",
    "    total = 0 # Keep a total of all the columns\n",
    "    for n in range(nth, 0, -1): # Start at nth and go back to 1\n",
    "        total += n # add n (column height) to total\n",
    "    return total # Return the total of all the columns\n",
    "\n",
    "\n",
    "def triangular(nth): # Get the nth triangular number recursively\n",
    "    if nth < 1:\n",
    "        return 0 # For anything less than 1, it’s 0\n",
    "    return (nth + # Otherwise add this column to the preceding\n",
    "            triangular(nth - 1)) # triangular number\n",
    "\n",
    "\n",
    "print(triangular_loop(100))\n",
    "\n",
    "print(triangular(100))"
   ]
  },
  {
   "cell_type": "code",
   "execution_count": 5,
   "id": "6cb70513",
   "metadata": {},
   "outputs": [
    {
     "name": "stdout",
     "output_type": "stream",
     "text": [
      "120\n"
     ]
    }
   ],
   "source": [
    "def factorial(n): # Get factorial of n\n",
    "    if n < 1:\n",
    "        return 1 # It’s 1 for anything < 1\n",
    "    return (n * # Otherwise, multiply n\n",
    "            factorial(n - 1)) # by preceding factorial\n",
    "\n",
    "print(factorial(5))"
   ]
  },
  {
   "cell_type": "code",
   "execution_count": null,
   "id": "717da96a",
   "metadata": {},
   "outputs": [],
   "source": []
  }
 ],
 "metadata": {
  "kernelspec": {
   "display_name": "Python 3 (ipykernel)",
   "language": "python",
   "name": "python3"
  },
  "language_info": {
   "codemirror_mode": {
    "name": "ipython",
    "version": 3
   },
   "file_extension": ".py",
   "mimetype": "text/x-python",
   "name": "python",
   "nbconvert_exporter": "python",
   "pygments_lexer": "ipython3",
   "version": "3.9.7"
  }
 },
 "nbformat": 4,
 "nbformat_minor": 5
}
