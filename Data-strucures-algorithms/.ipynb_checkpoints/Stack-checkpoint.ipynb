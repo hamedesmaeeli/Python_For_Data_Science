{
 "cells": [
  {
   "cell_type": "code",
   "execution_count": 10,
   "id": "8277ed3d",
   "metadata": {},
   "outputs": [
    {
     "name": "stdout",
     "output_type": "stream",
     "text": [
      "After pushing 6 words on the stack, it contains:\n",
      " [\n",
      "Is stack full? False\n",
      "Popping items off the stack:\n",
      "youwithbeforcetheMay\n",
      "Is stack full? False\n"
     ]
    }
   ],
   "source": [
    "# Implement a Stack data structure using a Python list\n",
    "class Stack(object):\n",
    "    def __init__(self, max): # Constructor\n",
    "        self.stackList = [None] * max # The stack stored as a list\n",
    "        self.top = -1 # No items initially\n",
    "    \n",
    "    def push(self, item): # Insert item at top of stack\n",
    "        self.top += 1 # Advance the pointer\n",
    "        self.stackList[self.top] = item # Store item\n",
    "    \n",
    "    def pop(self): # Remove top item from stack\n",
    "        top = self.stackList[self.top] # Top item\n",
    "        self.stackList[self.top] = None # Remove item reference\n",
    "        self.top -= 1 # Decrease the pointer\n",
    "        return top # Return top item\n",
    "\n",
    "    def peek(self): # Return top item\n",
    "        if not self.isEmpty(): # If stack is not empty\n",
    "            return self.stackList[self.top] # Return the top item\n",
    "\n",
    "    def isEmpty(self): # Check if stack is empty\n",
    "        return self.top < 0\n",
    "\n",
    "    def isFull(self): # Check if stack is full\n",
    "        return self.top >= len(self.stackList) - 1\n",
    "\n",
    "    def __len__(self): # Return # of items on stack\n",
    "        return self.top + 1\n",
    "\n",
    "    def __str__(self): # Convert stack to string\n",
    "        ans = \"[\" # Start with left bracket\n",
    "        for i in range(self.top + 1): # Loop through current items\n",
    "            if len(ans) > 1: # Except next to left bracket,\n",
    "                ans += \", \" # separate items with comma\n",
    "                ans += str(self.stackList[i]) # Add string form of item\n",
    "                ans += \"]\" # Close with right bracket\n",
    "        return ans\n",
    "    \n",
    "    \n",
    "    \n",
    "    \n",
    "stack = Stack(10)\n",
    "for word in ['May', 'the', 'force', 'be', 'with', 'you']:\n",
    "    stack.push(word)\n",
    "print('After pushing', len(stack),'words on the stack, it contains:\\n', stack)\n",
    "print('Is stack full?', stack.isFull())\n",
    "print('Popping items off the stack:')\n",
    "while not stack.isEmpty():\n",
    "    print(stack.pop(), end='' )\n",
    "print()    \n",
    "print('Is stack full?', stack.isFull())  "
   ]
  },
  {
   "cell_type": "code",
   "execution_count": null,
   "id": "b5aa5f54",
   "metadata": {},
   "outputs": [],
   "source": []
  }
 ],
 "metadata": {
  "kernelspec": {
   "display_name": "Python 3 (ipykernel)",
   "language": "python",
   "name": "python3"
  },
  "language_info": {
   "codemirror_mode": {
    "name": "ipython",
    "version": 3
   },
   "file_extension": ".py",
   "mimetype": "text/x-python",
   "name": "python",
   "nbconvert_exporter": "python",
   "pygments_lexer": "ipython3",
   "version": "3.9.7"
  }
 },
 "nbformat": 4,
 "nbformat_minor": 5
}
