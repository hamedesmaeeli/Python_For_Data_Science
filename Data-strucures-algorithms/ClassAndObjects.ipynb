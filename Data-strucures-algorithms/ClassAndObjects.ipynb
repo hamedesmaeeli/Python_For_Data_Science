{
 "cells": [
  {
   "cell_type": "code",
   "execution_count": 5,
   "id": "c99d796b",
   "metadata": {},
   "outputs": [
    {
     "name": "stdout",
     "output_type": "stream",
     "text": [
      "Power:  <class '__main__.Power'>\n",
      "Power.default_exponent: 2\n",
      "square:  <__main__.Power object at 0x000001615DA86F40>\n",
      "square.of(3) = 9\n",
      "root.of(3) = 1.7320508075688772\n",
      "root.of(-3) = 2.0\n",
      "real_root.of(3) = 1.7320508075688772\n",
      "real_root.of(-3) = 2.0\n",
      "Done.\n"
     ]
    }
   ],
   "source": [
    "class Power(object):\n",
    "    \"\"\"A class that computes a specific power of other numbers.\n",
    "    In other words, it raises numbers by a constant exponent.\n",
    "    \"\"\"\n",
    "    default_exponent = 2\n",
    "    \n",
    "    def __init__(self, exponent=default_exponent):\n",
    "        self.exponent = exponent\n",
    "    \n",
    "    def of(self, x):\n",
    "        return x ** self.exponent\n",
    "    \n",
    "class RealPower(Power): # A subclass of Power for real numbers\n",
    "    \n",
    "    def of(self, x):\n",
    "        if isinstance(self.exponent, int) or x >= 0:\n",
    "            return x ** self.exponent\n",
    "        raise ValueError('Fractional powers of negative numbers are imaginary')\n",
    "print('Power: ', Power)\n",
    "print('Power.default_exponent:', Power.default_exponent)\n",
    "\n",
    "square = Power()\n",
    "root = Power(0.5)\n",
    "print('square: ', square)\n",
    "print('square.of(3) =', square.of(3))\n",
    "print('root.of(3) =', root.of(3))\n",
    "print('root.of(-3) =', root.of(4))\n",
    "real_root = RealPower(0.5)\n",
    "print('real_root.of(3) =', real_root.of(3))\n",
    "print('real_root.of(-3) =', real_root.of(4))\n",
    "print('Done.')"
   ]
  },
  {
   "cell_type": "code",
   "execution_count": null,
   "id": "0f1e5913",
   "metadata": {},
   "outputs": [],
   "source": []
  }
 ],
 "metadata": {
  "kernelspec": {
   "display_name": "Python 3 (ipykernel)",
   "language": "python",
   "name": "python3"
  },
  "language_info": {
   "codemirror_mode": {
    "name": "ipython",
    "version": 3
   },
   "file_extension": ".py",
   "mimetype": "text/x-python",
   "name": "python",
   "nbconvert_exporter": "python",
   "pygments_lexer": "ipython3",
   "version": "3.9.7"
  }
 },
 "nbformat": 4,
 "nbformat_minor": 5
}
