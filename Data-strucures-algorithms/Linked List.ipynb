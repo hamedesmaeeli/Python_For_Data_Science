{
 "cells": [
  {
   "cell_type": "code",
   "execution_count": 1,
   "id": "cf3cc512",
   "metadata": {},
   "outputs": [
    {
     "name": "stdout",
     "output_type": "stream",
     "text": [
      "1 [2]\n"
     ]
    }
   ],
   "source": [
    "def increment(a, b):\n",
    "    a += 1\n",
    "    b[0] += 1\n",
    "\n",
    "x = 1\n",
    "y = [1]\n",
    "increment(x, y)\n",
    "print(x, y)"
   ]
  },
  {
   "cell_type": "code",
   "execution_count": 7,
   "id": "b22554e2",
   "metadata": {},
   "outputs": [
    {
     "name": "stdout",
     "output_type": "stream",
     "text": [
      "10 [10] [10]\n",
      "False\n",
      "True\n",
      "False\n",
      "True\n",
      "True\n"
     ]
    }
   ],
   "source": [
    "x = 10\n",
    "lx = [10]\n",
    "ly = [5 + 5]\n",
    "print(x, lx, ly)\n",
    "print(x is lx)\n",
    "print(lx is lx)\n",
    "print(lx is ly)\n",
    "print(lx == ly)\n",
    "print(lx[0] is ly[0])"
   ]
  },
  {
   "cell_type": "code",
   "execution_count": 14,
   "id": "e5c7337f",
   "metadata": {},
   "outputs": [
    {
     "name": "stdout",
     "output_type": "stream",
     "text": [
      "True\n",
      "True\n",
      "True\n",
      "False\n"
     ]
    },
    {
     "name": "stderr",
     "output_type": "stream",
     "text": [
      "<>:2: SyntaxWarning: \"is\" with a literal. Did you mean \"==\"?\n",
      "<>:2: SyntaxWarning: \"is\" with a literal. Did you mean \"==\"?\n",
      "C:\\Users\\esmaeli.h\\AppData\\Local\\Temp/ipykernel_12320/4073470475.py:2: SyntaxWarning: \"is\" with a literal. Did you mean \"==\"?\n",
      "  print(32 is 32)\n"
     ]
    }
   ],
   "source": [
    "print(32 == 32)\n",
    "print(32 is 32)\n",
    "print(2**100 == 2**100)\n",
    "print(2**100 is 2**100)"
   ]
  },
  {
   "cell_type": "code",
   "execution_count": null,
   "id": "bc80cf1e",
   "metadata": {},
   "outputs": [],
   "source": [
    "#DoubleEndedList\n"
   ]
  }
 ],
 "metadata": {
  "kernelspec": {
   "display_name": "Python 3 (ipykernel)",
   "language": "python",
   "name": "python3"
  },
  "language_info": {
   "codemirror_mode": {
    "name": "ipython",
    "version": 3
   },
   "file_extension": ".py",
   "mimetype": "text/x-python",
   "name": "python",
   "nbconvert_exporter": "python",
   "pygments_lexer": "ipython3",
   "version": "3.9.7"
  }
 },
 "nbformat": 4,
 "nbformat_minor": 5
}
