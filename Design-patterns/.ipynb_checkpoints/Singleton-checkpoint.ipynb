{
 "cells": [
  {
   "cell_type": "code",
   "execution_count": 3,
   "id": "13791f9a",
   "metadata": {},
   "outputs": [
    {
     "name": "stdout",
     "output_type": "stream",
     "text": [
      "True\n",
      "I'm only one var\n",
      "child True\n"
     ]
    }
   ],
   "source": [
    "class Singleton(object):\n",
    "    def __new__(cls):\n",
    "        if not hasattr(cls, 'instance'):\n",
    "            cls.instance = super(Singleton, cls).__new__(cls)\n",
    "        return cls.instance\n",
    "\n",
    "singleton = Singleton()\n",
    "another_singleton = Singleton()\n",
    "print(singleton is another_singleton)\n",
    "singleton.only_one_var = \"I'm only one var\"\n",
    "print(another_singleton.only_one_var)\n",
    "\n",
    "\n",
    "# Try to subclass the Singleton class with another one:\n",
    "class Child(Singleton):\n",
    "    pass\n",
    "\n",
    "child = Child()\n",
    "print('child', child is singleton)"
   ]
  },
  {
   "cell_type": "code",
   "execution_count": null,
   "id": "0100da85",
   "metadata": {},
   "outputs": [],
   "source": []
  }
 ],
 "metadata": {
  "kernelspec": {
   "display_name": "Python 3 (ipykernel)",
   "language": "python",
   "name": "python3"
  },
  "language_info": {
   "codemirror_mode": {
    "name": "ipython",
    "version": 3
   },
   "file_extension": ".py",
   "mimetype": "text/x-python",
   "name": "python",
   "nbconvert_exporter": "python",
   "pygments_lexer": "ipython3",
   "version": "3.9.7"
  }
 },
 "nbformat": 4,
 "nbformat_minor": 5
}
