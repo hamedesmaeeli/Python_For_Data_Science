{
 "cells": [
  {
   "cell_type": "code",
   "execution_count": null,
   "id": "e8e92730",
   "metadata": {},
   "outputs": [],
   "source": [
    "\n",
    "class SimpleFactory(object):\n",
    "    @staticmethod # This decorator allows to run method without\n",
    "            # class instance, .e. SimpleFactory.build_connection\n",
    "    def build_connection(protocol):\n",
    "        if protocol == 'http':\n",
    "            return HTTPConnection()\n",
    "        elif protocol == 'ftp':\n",
    "            return FTPConnection()\n",
    "        else:\n",
    "            raise RuntimeError('Unknown protocol')\n",
    "            \n",
    "if __name__ == '__main__':\n",
    "    protocol = input('Which Protocol to use? (http or ftp): ')\n",
    "    protocol = SimpleFactory.build_connection(protocol)\n",
    "    protocol.connect()\n",
    "    print (protocol.get_response())"
   ]
  },
  {
   "cell_type": "code",
   "execution_count": null,
   "id": "f4bef219",
   "metadata": {},
   "outputs": [],
   "source": []
  }
 ],
 "metadata": {
  "kernelspec": {
   "display_name": "Python 3 (ipykernel)",
   "language": "python",
   "name": "python3"
  },
  "language_info": {
   "codemirror_mode": {
    "name": "ipython",
    "version": 3
   },
   "file_extension": ".py",
   "mimetype": "text/x-python",
   "name": "python",
   "nbconvert_exporter": "python",
   "pygments_lexer": "ipython3",
   "version": "3.9.7"
  }
 },
 "nbformat": 4,
 "nbformat_minor": 5
}
