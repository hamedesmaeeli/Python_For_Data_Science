{
 "cells": [
  {
   "cell_type": "code",
   "execution_count": 13,
   "id": "9aa45535",
   "metadata": {},
   "outputs": [
    {
     "name": "stdout",
     "output_type": "stream",
     "text": [
      "singleton is another_singleton True\n",
      "I'm only one var\n",
      "child True\n"
     ]
    },
    {
     "data": {
      "text/plain": [
       "\"I'm only one var\""
      ]
     },
     "execution_count": 13,
     "metadata": {},
     "output_type": "execute_result"
    }
   ],
   "source": [
    "class Singleton(object):\n",
    "    def __new__(cls):\n",
    "        if not hasattr(cls, 'instance'):\n",
    "            cls.instance = super(Singleton, cls).__new__(cls)\n",
    "        return cls.instance\n",
    "\n",
    "singleton = Singleton()\n",
    "another_singleton = Singleton()\n",
    "print('singleton is another_singleton',singleton is another_singleton)\n",
    "singleton.only_one_var = \"I'm only one var\"\n",
    "print(another_singleton.only_one_var)\n",
    "\n",
    "\n",
    "# Try to subclass the Singleton class with another one:\n",
    "class Child(Singleton):\n",
    "    pass\n",
    "\n",
    "child = Child()\n",
    "print('child', child is singleton)\n",
    "child.only_one_var"
   ]
  },
  {
   "cell_type": "code",
   "execution_count": 11,
   "id": "e4f359a4",
   "metadata": {},
   "outputs": [
    {
     "name": "stdout",
     "output_type": "stream",
     "text": [
      "borg is another_borg : False\n"
     ]
    },
    {
     "ename": "AttributeError",
     "evalue": "'Child' object has no attribute 'only_one_var'",
     "output_type": "error",
     "traceback": [
      "\u001b[1;31m---------------------------------------------------------------------------\u001b[0m",
      "\u001b[1;31mAttributeError\u001b[0m                            Traceback (most recent call last)",
      "\u001b[1;32m~\\AppData\\Local\\Temp/ipykernel_8672/456680772.py\u001b[0m in \u001b[0;36m<module>\u001b[1;34m\u001b[0m\n\u001b[0;32m     15\u001b[0m \u001b[0mchild\u001b[0m \u001b[1;33m=\u001b[0m \u001b[0mChild\u001b[0m\u001b[1;33m(\u001b[0m\u001b[1;33m)\u001b[0m\u001b[1;33m\u001b[0m\u001b[1;33m\u001b[0m\u001b[0m\n\u001b[0;32m     16\u001b[0m \u001b[0mborg\u001b[0m\u001b[1;33m.\u001b[0m\u001b[0monly_one_var\u001b[0m \u001b[1;33m=\u001b[0m \u001b[1;34m\"I'm the only one var\"\u001b[0m\u001b[1;33m\u001b[0m\u001b[1;33m\u001b[0m\u001b[0m\n\u001b[1;32m---> 17\u001b[1;33m \u001b[0mchild\u001b[0m\u001b[1;33m.\u001b[0m\u001b[0monly_one_var\u001b[0m\u001b[1;33m\u001b[0m\u001b[1;33m\u001b[0m\u001b[0m\n\u001b[0m\u001b[0;32m     18\u001b[0m \u001b[0mhild\u001b[0m\u001b[1;33m.\u001b[0m\u001b[0monly_one_var\u001b[0m\u001b[1;33m\u001b[0m\u001b[1;33m\u001b[0m\u001b[0m\n",
      "\u001b[1;31mAttributeError\u001b[0m: 'Child' object has no attribute 'only_one_var'"
     ]
    }
   ],
   "source": [
    "class Borg(object):\n",
    "    _shared_state = {}\n",
    "    \n",
    "def __new__(cls, *args, **kwargs):\n",
    "    obj = super(Borg, cls).__new__(cls, *args, **kwargs)\n",
    "    obj.__dict__ = cls._shared_state\n",
    "    return obj\n",
    "\n",
    "class Child(Borg):\n",
    "    pass\n",
    "\n",
    "borg = Borg()\n",
    "another_borg = Borg()\n",
    "print('borg is another_borg :',borg is another_borg)\n",
    "child = Child()\n",
    "borg.only_one_var = \"I'm the only one var\"\n",
    "child.only_one_var\n"
   ]
  },
  {
   "cell_type": "code",
   "execution_count": null,
   "id": "42d10b48",
   "metadata": {},
   "outputs": [],
   "source": []
  }
 ],
 "metadata": {
  "kernelspec": {
   "display_name": "Python 3 (ipykernel)",
   "language": "python",
   "name": "python3"
  },
  "language_info": {
   "codemirror_mode": {
    "name": "ipython",
    "version": 3
   },
   "file_extension": ".py",
   "mimetype": "text/x-python",
   "name": "python",
   "nbconvert_exporter": "python",
   "pygments_lexer": "ipython3",
   "version": "3.9.7"
  }
 },
 "nbformat": 4,
 "nbformat_minor": 5
}
